{
 "cells": [
  {
   "cell_type": "markdown",
   "metadata": {
    "hideCode": false,
    "hidePrompt": false
   },
   "source": [
    "### 10 Emoji Prediction\n",
    "\n",
    "The task of this project is to make a system that would automatically fill the text with the appropriate emoticons. This can be done in two steps. First, for each position within the text a prediction is made whether an emoticon should be placed there. Second, an appropriate emoticon is chosen from a list of available emoticons. Both these tasks can be set up as supervised classification problems.\n",
    "\n",
    "Competition website:\n",
    "https://competitions.codalab.org/competitions/17344\n",
    "\n",
    "Dataset:\n",
    "https://competitions.codalab.org/competitions/17344\n",
    "\n",
    "Entry point:\n",
    "https://arxiv.org/pdf/1702.07285.pdf (Barbieri, Francesco, Miguel Ballesteros, and Horacio Saggion. Are Emojis Predictable?)"
   ]
  },
  {
   "cell_type": "code",
   "execution_count": 1,
   "metadata": {
    "hideCode": false,
    "hidePrompt": false
   },
   "outputs": [
    {
     "name": "stdout",
     "output_type": "stream",
     "text": [
      "Populating the interactive namespace from numpy and matplotlib\n"
     ]
    }
   ],
   "source": [
    "import numpy as np\n",
    "import scipy as sp\n",
    "import pandas as pd\n",
    "import matplotlib.pyplot as plt\n",
    "%pylab inline"
   ]
  },
  {
   "cell_type": "markdown",
   "metadata": {
    "hideCode": false,
    "hidePrompt": false
   },
   "source": [
    "Define paths to folders containing the data and the results."
   ]
  },
  {
   "cell_type": "code",
   "execution_count": 3,
   "metadata": {
    "collapsed": true,
    "hideCode": false,
    "hidePrompt": false
   },
   "outputs": [],
   "source": [
    "NUMBER_OF_TWEETS = \"ALL\"\n",
    "# NUMBER_OF_TWEETS = 100000\n",
    "\n",
    "MAX_WORDS_PER_TWEET = 30\n",
    "DATA_LOCATION = \"./train/data/\"\n",
    "RESULT_LOCATION = \"./result/\"\n",
    "TWEET_FILE_NAME = \"tweet_by_ID_28_4_2018__03_20_05\" + \"_\"\n",
    "\n",
    "k = 3\n",
    "\n",
    "if NUMBER_OF_TWEETS is not None:\n",
    "    TWEET_FILE_NAME += str(NUMBER_OF_TWEETS)\n",
    "else:\n",
    "    TWEET_FILE_NAME += \"ALL\""
   ]
  },
  {
   "cell_type": "markdown",
   "metadata": {
    "hideCode": false,
    "hidePrompt": false
   },
   "source": [
    "### Load the data\n",
    "Tweets are loaded in two ways: list of strings (for the TF-IDF vectorizer) and a list of lists of words (for feature extraction). Labels are read as a numpy array of N * MAX_WORDS_PER_TWEET dimensions."
   ]
  },
  {
   "cell_type": "code",
   "execution_count": 5,
   "metadata": {
    "hideCode": false,
    "hidePrompt": false
   },
   "outputs": [
    {
     "name": "stdout",
     "output_type": "stream",
     "text": [
      "example of tweet texts:\n",
      "['lol @ west covina , california', 'things got a little festive at the office #christmas2016 @ redrock', 'step out and explore . @ ellis island cafe', '@user @ cathedral preparatory school', \"my baby bear @ bubby's\"]\n",
      "\n",
      "example of labels (emoji locations):\n",
      "[[0 1 0 0 0 0 0 0 0 0 0 0 0 0 0 0 0 0 0 0 0 0 0 0 0 0 0 0 0 0 0]\n",
      " [0 0 0 0 0 0 0 0 1 0 0 0 0 0 0 0 0 0 0 0 0 0 0 0 0 0 0 0 0 0 0]\n",
      " [0 0 0 0 0 1 0 0 0 0 0 0 0 0 0 0 0 0 0 0 0 0 0 0 0 0 0 0 0 0 0]\n",
      " [1 0 0 0 0 0 0 0 0 0 0 0 0 0 0 0 0 0 0 0 0 0 0 0 0 0 0 0 0 0 0]\n",
      " [0 0 0 1 0 0 0 0 0 0 0 0 0 0 0 0 0 0 0 0 0 0 0 0 0 0 0 0 0 0 0]]\n"
     ]
    }
   ],
   "source": [
    "base_file_name = DATA_LOCATION + TWEET_FILE_NAME\n",
    "\n",
    "text_lines = []\n",
    "text_lines_split = []\n",
    "\n",
    "with open(base_file_name + \".text\", 'r', encoding=\"utf-8\") as out_text:\n",
    "    for line in out_text:\n",
    "        text_lines.append(line[:-1])\n",
    "        text_lines_split.append(line[:-1].split())\n",
    "        \n",
    "loc_lines = []\n",
    "with open(base_file_name + \".loclabels\", 'r') as loc_labels:\n",
    "    for line in loc_labels:\n",
    "        loc_line = []\n",
    "        for c in line[:-1]:\n",
    "            loc_line.append(int(c))\n",
    "        loc_lines.append(loc_line)\n",
    "\n",
    "loc_lines = np.asarray(loc_lines)\n",
    "\n",
    "# full_text = open(base_file_name + \".full\", 'r')\n",
    "# emoji_labels = open(base_file_name + \".emolabels\", 'r')\n",
    "# emoji_ids = open(base_file_name + \".ids\", 'r')\n",
    "\n",
    "print(f\"example of tweet texts:\\n{text_lines[:5]}\\n\")\n",
    "print(f\"example of labels (emoji locations):\\n{loc_lines[:5]}\")"
   ]
  },
  {
   "cell_type": "markdown",
   "metadata": {
    "hideCode": false,
    "hidePrompt": false
   },
   "source": [
    "### TF-IDF Feature Extraction\n",
    "TF-IDF is computed on the collection of tweets. Then for every position between words a new example is generated: a $2*k$ array containing the k left and k right tf-idf values of words. Labels are taken as 1 or 0 wether an emoji was there in the original tweet."
   ]
  },
  {
   "cell_type": "code",
   "execution_count": 16,
   "metadata": {
    "hideCode": false,
    "hidePrompt": false
   },
   "outputs": [
    {
     "name": "stderr",
     "output_type": "stream",
     "text": [
      "C:\\ProgramData\\Anaconda3\\lib\\site-packages\\sklearn\\feature_extraction\\text.py:1089: FutureWarning: Conversion of the second argument of issubdtype from `float` to `np.floating` is deprecated. In future, it will be treated as `np.float64 == np.dtype(float).type`.\n",
      "  if hasattr(X, 'dtype') and np.issubdtype(X.dtype, np.float):\n"
     ]
    }
   ],
   "source": [
    "from sklearn.feature_extraction.text import TfidfVectorizer\n",
    "import random\n",
    "\n",
    "word_to_tfidf_index_dict = {}\n",
    "tfidf_model = TfidfVectorizer(input=\"content\", analyzer=\"word\", stop_words=\"english\")\n",
    "X_tfidf_features = tfidf_model.fit_transform(text_lines)\n",
    "\n",
    "def tfidf_features(tweets, labels, k, func):\n",
    "    for i, word in enumerate(tfidf_model.get_feature_names()):\n",
    "        word_to_tfidf_index_dict[word] = i\n",
    "\n",
    "    print(f\"X shape {X_tfidf.shape}\")\n",
    "    print(f\"Y shape {loc_lines.shape}\")\n",
    "    print(f\"some tf-idf values\\n{X_tfidf[0]}\\n\")\n",
    "\n",
    "    N = len(tweets)\n",
    "    X = []\n",
    "    y = []\n",
    "    \n",
    "    for tweet_index, (tweet, label) in enumerate(zip(tweets, labels)):\n",
    "        for pos in range(len(tweet) + 1):\n",
    "                \n",
    "            x = []\n",
    "            for i in range(pos - k, pos + k):\n",
    "                if i < 0 or i >= len(tweet):\n",
    "                    x.append(0.0)\n",
    "                else:\n",
    "                    x.append(func(tweet_index, tweet[i]))\n",
    "            X.append(x)\n",
    "            y.append(label[pos])\n",
    "            \n",
    "    return np.asarray(X), np.asarray(y)\n",
    "\n",
    "def word_to_tfidf(tweet_index, word):\n",
    "    if word in word_to_tfidf_index_dict:\n",
    "        return X_tfidf_features[tweet_index, word_to_tfidf_index_dict[word]]\n",
    "    else:\n",
    "        return 0.0\n",
    "\n",
    "def print_dataset(X, y):\n",
    "    emoji_num = np.count_nonzero(y)\n",
    "    class_freq_ratio = emoji_num / (X.shape[0] * X.shape[1])\n",
    "    \n",
    "    print(\"after feature extraction:\")\n",
    "    print(f\"X shape {X.shape}\")\n",
    "    print(f\"y shape {y.shape}\")\n",
    "    print(f\"some X values\\n{X[:5]}\")\n",
    "    print(f\"some y values\\n{y[:5]}\")\n",
    "    print(f\"non zero elements (1 in label) in y {emoji_num}\")\n",
    "    print(f\"class frequency ratio {class_freq_ratio}\\n\")"
   ]
  },
  {
   "cell_type": "markdown",
   "metadata": {},
   "source": [
    "### Word2Vector Feature Extraction\n",
    "\n",
    "A similar dataset is obtained using w2vec. By setting the number of features to $2*k=6$, the dimensionality stays the same as the previous tf-idf feature extraction. For each word a 6 dimensional vector is obtained and then the average of the 6 neighboring words is taken. Labels stay the same."
   ]
  },
  {
   "cell_type": "code",
   "execution_count": 5,
   "metadata": {},
   "outputs": [
    {
     "name": "stderr",
     "output_type": "stream",
     "text": [
      "C:\\ProgramData\\Anaconda3\\lib\\site-packages\\gensim\\utils.py:1197: UserWarning: detected Windows; aliasing chunkize to chunkize_serial\n",
      "  warnings.warn(\"detected Windows; aliasing chunkize to chunkize_serial\")\n"
     ]
    }
   ],
   "source": [
    "from sklearn.feature_extraction.text import TfidfVectorizer\n",
    "from gensim.models import Word2Vec\n",
    "\n",
    "num_of_features = 2 * k\n",
    "w2v_model_file_name = \"w2v_model\""
   ]
  },
  {
   "cell_type": "code",
   "execution_count": 6,
   "metadata": {
    "collapsed": true
   },
   "outputs": [],
   "source": [
    "w2v_model = Word2Vec(text_lines_split, min_count=1, size=num_of_features)\n",
    "w2v_model.save(w2v_model_file_name)"
   ]
  },
  {
   "cell_type": "code",
   "execution_count": 7,
   "metadata": {},
   "outputs": [
    {
     "name": "stdout",
     "output_type": "stream",
     "text": [
      "(6,)\n",
      "[ 4.807096   5.3436766 -3.5083148  5.000165  -1.2895648  4.4985213]\n"
     ]
    }
   ],
   "source": [
    "w2v_model = Word2Vec.load(w2v_model_file_name)\n",
    "\n",
    "example = w2v_model.wv[\"california\"]\n",
    "print(example.shape)\n",
    "print(example)"
   ]
  },
  {
   "cell_type": "code",
   "execution_count": 10,
   "metadata": {
    "collapsed": true
   },
   "outputs": [],
   "source": [
    "def w2v_features(tweets, labels, k):\n",
    "    N = len(tweets)\n",
    "    X = []\n",
    "    y = []\n",
    "    \n",
    "    for tweet_index, (tweet, label) in enumerate(zip(tweets, labels)):\n",
    "        for pos in range(len(tweet) + 1):\n",
    "            x = []\n",
    "            for i in range(pos - k, pos + k):\n",
    "                if i < 0 or i >= len(tweet):\n",
    "                    x.append(np.zeros(num_of_features))\n",
    "                else:\n",
    "                    x.append(w2v_model.wv[tweet[i]])\n",
    "            x = np.average(x, axis=0)\n",
    "            X.append(x)\n",
    "            y.append(label[pos])\n",
    "            \n",
    "    return np.asarray(X), np.asarray(y)"
   ]
  },
  {
   "cell_type": "code",
   "execution_count": 17,
   "metadata": {},
   "outputs": [
    {
     "name": "stdout",
     "output_type": "stream",
     "text": [
      "X shape (1187039, 6)\n",
      "Y shape (100000, 31)\n",
      "some tf-idf values\n",
      "[0.         0.         0.         0.42782282 0.43669317 0.7050588 ]\n",
      "\n",
      "after feature extraction:\n",
      "X shape (1187039, 6)\n",
      "y shape (1187039,)\n",
      "some X values\n",
      "[[0.         0.         0.         0.42782282 0.43669317 0.7050588 ]\n",
      " [0.         0.         0.42782282 0.43669317 0.7050588  0.3593867 ]\n",
      " [0.         0.42782282 0.43669317 0.7050588  0.3593867  0.        ]\n",
      " [0.42782282 0.43669317 0.7050588  0.3593867  0.         0.        ]\n",
      " [0.43669317 0.7050588  0.3593867  0.         0.         0.        ]]\n",
      "some y values\n",
      "[0 1 0 0 0]\n",
      "non zero elements (1 in label) in y 100779\n",
      "class frequency ratio 0.014149914198269813\n",
      "\n"
     ]
    }
   ],
   "source": [
    "should_use_tfidf = True\n",
    "should_use_hybrid = False\n",
    "\n",
    "X_tfidf, y_tfidf = tfidf_features(text_lines_split, loc_lines, k, word_to_tfidf)\n",
    "X_w2v, y_w2v = w2v_features(text_lines_split, loc_lines, k)\n",
    "X_hybrid = np.hstack((X_tfidf, X_w2v))\n",
    "\n",
    "if should_use_tfidf or should_use_hybrid:    \n",
    "    X, y = X_tfidf, y_tfidf\n",
    "\n",
    "if (not should_use_tfidf) or should_use_hybrid:\n",
    "    X, y = X_w2v, y_w2v\n",
    "\n",
    "if should_use_hybrid:\n",
    "    X = X_hybrid\n",
    "\n",
    "print_dataset(X, y)"
   ]
  },
  {
   "cell_type": "markdown",
   "metadata": {
    "hideCode": false,
    "hidePrompt": false
   },
   "source": [
    "### Build data sets\n",
    "Dataset is randomly split into train and test subsets. Ignored while using KFold."
   ]
  },
  {
   "cell_type": "code",
   "execution_count": null,
   "metadata": {
    "collapsed": true,
    "hideCode": false,
    "hidePrompt": false
   },
   "outputs": [],
   "source": [
    "from sklearn.model_selection import train_test_split\n",
    "\n",
    "if not should_use_kfold:\n",
    "    X_train, X_test, y_train, y_test = train_test_split(X, y, test_size=0.2, random_state=42)\n",
    "\n",
    "    print(X_train.shape)\n",
    "    print(y_train.shape)\n",
    "    print(X_train[30:50])\n",
    "    print(y_train[30:50])"
   ]
  },
  {
   "cell_type": "markdown",
   "metadata": {
    "hideCode": false,
    "hidePrompt": false
   },
   "source": [
    "### Baselines\n",
    "\n",
    "Make sure to check should_train flags when training/testing."
   ]
  },
  {
   "cell_type": "code",
   "execution_count": 18,
   "metadata": {
    "collapsed": true,
    "hideCode": false,
    "hidePrompt": false
   },
   "outputs": [],
   "source": [
    "should_use_kfold = True\n",
    "\n",
    "should_train_global = True\n",
    "should_train_linear_svm = True\n",
    "should_train_bagging_svm = False\n",
    "should_train_random_forest = True\n",
    "should_train_adaboost = False\n",
    "\n",
    "linear_svm_model_file_name = \"linear_svm.pkl\"\n",
    "bagging_model_file_name = \"bagging_svm.pkl\"\n",
    "random_forest_file_name = \"random_forest.pkl\"\n",
    "adaboost_file_name = \"adaboost.pkl\""
   ]
  },
  {
   "cell_type": "code",
   "execution_count": 6,
   "metadata": {
    "collapsed": true,
    "hideCode": false,
    "hidePrompt": false
   },
   "outputs": [],
   "source": [
    "from sklearn.externals import joblib\n",
    "from sklearn.metrics import accuracy_score\n",
    "from sklearn.metrics import precision_score\n",
    "from sklearn.metrics import recall_score\n",
    "from sklearn.metrics import f1_score\n",
    "from sklearn.model_selection import cross_val_score, KFold\n",
    "\n",
    "kf = KFold(n_splits=5, shuffle=True)\n",
    "\n",
    "def calc_scores(y_pred, y_test):\n",
    "    result = []\n",
    "    result.append(accuracy_score(y_pred, y_test))\n",
    "    result.append(precision_score(y_pred, y_test))\n",
    "    result.append(recall_score(y_pred, y_test))\n",
    "    result.append(f1_score(y_pred, y_test))\n",
    "    result.append(np.count_nonzero(y_pred) / y_pred.shape[0])\n",
    "    return result\n",
    "\n",
    "def print_scores(scores):\n",
    "    print(f\"Accuracy: {scores[0]}\")\n",
    "    print(f\"Precision: {scores[1]}\")\n",
    "    print(f\"Recall: {scores[2]}\")\n",
    "    print(f\"F1: {scores[3]}\")\n",
    "    print(f\"ratio of positive/negative predictions {scores[4]}\")\n",
    "\n",
    "def kfold_score(clf, X, y):\n",
    "    fold_scores = []\n",
    "    for train_index, test_index in kf.split(X):\n",
    "        X_train_kf, X_test_kf = X[train_index], X[test_index]\n",
    "        y_train_kf, y_test_kf = y[train_index], y[test_index]\n",
    "        clf.fit(X_train_kf, y_train_kf)\n",
    "        y_pred = clf.predict(X_test_kf)\n",
    "        fold_scores.append(calc_scores(y_pred, y_test_kf))\n",
    "    \n",
    "    fold_scores = np.average(np.asarray(fold_scores), axis=0)\n",
    "    print_scores(fold_scores)\n",
    "\n",
    "def train_and_save_model(model, X_train, y_train, model_file_name):\n",
    "    model.fit(X_train, y_train)\n",
    "    joblib.dump(model, model_file_name)\n",
    "    \n",
    "def load_and_test_model(model_file_name, X_test, y_test):\n",
    "    clf_loaded = joblib.load(model_file_name)\n",
    "    y_pred = clf_loaded.predict(X_test)\n",
    "    print_scores(calc_scores(y_pred, y_test))\n",
    "    \n",
    "def do_test(clf, X, y, clf_file_name, flag):\n",
    "    if should_use_kfold:\n",
    "        kfold_score(clf, X, y)\n",
    "    else:\n",
    "        if should_train_global and flag:\n",
    "            train_and_save_model(clf, X_train, y_train, clf_file_name)\n",
    "        load_and_test_model(clf_file_name, X_test, y_test)  "
   ]
  },
  {
   "cell_type": "markdown",
   "metadata": {
    "hideCode": false,
    "hidePrompt": false
   },
   "source": [
    "### Linear SVM Baseline\n",
    "\n",
    "Linear SVM is based on the liblinear library and is faster on large datasets. Not using dual optimization problem makes the training extremely fast (pseudoinverse). It is the fastest so both feature extraction methods (TF-IDF and word2vec) are used for comparison. TF-IDF works better, but adding word2vec to it (hybrid approach) adds a little bit of improvement."
   ]
  },
  {
   "cell_type": "code",
   "execution_count": 20,
   "metadata": {
    "hideCode": false,
    "hidePrompt": false
   },
   "outputs": [
    {
     "name": "stdout",
     "output_type": "stream",
     "text": [
      "TF-IDF results:\n",
      "Accuracy: 0.6850870103953868\n",
      "Precision: 0.678654603094061\n",
      "Recall: 0.16688481068197686\n",
      "F1: 0.2678922301447007\n",
      "ratio of positive/negative predictions 0.3452481351019257\n",
      "\n",
      "word2vec results:\n",
      "Accuracy: 0.590992376930404\n",
      "Precision: 0.5971397885959209\n",
      "Recall: 0.11914537208245982\n",
      "F1: 0.198653237791379\n",
      "ratio of positive/negative predictions 0.4255032897061109\n",
      "\n",
      "hybrid results:\n",
      "Accuracy: 0.6862411428331792\n",
      "Precision: 0.6809955565082415\n",
      "Recall: 0.16782949386554807\n",
      "F1: 0.2692919499709778\n",
      "ratio of positive/negative predictions 0.34449331363604374\n"
     ]
    }
   ],
   "source": [
    "from sklearn.svm import LinearSVC\n",
    "\n",
    "svm_clf = LinearSVC(class_weight=\"balanced\", dual=False)\n",
    "\n",
    "print(\"TF-IDF results:\")\n",
    "do_test(svm_clf, X_tfidf, y_tfidf, linear_svm_model_file_name, should_train_linear_svm)\n",
    "print(\"\\nword2vec results:\")\n",
    "do_test(svm_clf, X_w2v, y_w2v, linear_svm_model_file_name, should_train_linear_svm)\n",
    "print(\"\\nhybrid results:\")\n",
    "do_test(svm_clf, X_hybrid, y_w2v, linear_svm_model_file_name, should_train_linear_svm)"
   ]
  },
  {
   "cell_type": "markdown",
   "metadata": {
    "hideCode": false,
    "hidePrompt": false
   },
   "source": [
    "### Bagging SVM\n",
    "\n",
    "Warning! SVM is based on the libsvm library and it scales poorly with large datasets. That is why an ensemble (bagging) is used. Each classifier is trained on a portion of the data which greatly reduces training times and gives similar (if not better) results. Using 10 estimators it still takes a few hours to train. Results are just a bit better than a single linear SVM."
   ]
  },
  {
   "cell_type": "code",
   "execution_count": null,
   "metadata": {
    "collapsed": true,
    "hideCode": false,
    "hidePrompt": false
   },
   "outputs": [],
   "source": [
    "from sklearn.svm import SVC\n",
    "from sklearn.ensemble import BaggingClassifier\n",
    "\n",
    "n_estimators = 10\n",
    "bagging_svm_clf = BaggingClassifier(SVC(kernel='linear', class_weight='balanced'), max_samples=1.0 / n_estimators,\n",
    "                                        n_estimators=n_estimators, bootstrap=False)\n",
    "\n",
    "do_test(bagging_svm_clf, X, y, bagging_model_file_name, should_train_bagging_svm)  "
   ]
  },
  {
   "cell_type": "markdown",
   "metadata": {
    "hideCode": false,
    "hidePrompt": false
   },
   "source": [
    "### Random Forest Baseline\n",
    "\n",
    "Random forests are pretty fast and are generally better than the SVM. Higher accuracy and recall, but worse precision."
   ]
  },
  {
   "cell_type": "code",
   "execution_count": 21,
   "metadata": {
    "hideCode": false,
    "hidePrompt": false
   },
   "outputs": [
    {
     "name": "stdout",
     "output_type": "stream",
     "text": [
      "Accuracy: 0.9002408523237806\n",
      "Precision: 0.21676942055870857\n",
      "Recall: 0.3562221258643744\n",
      "F1: 0.26951362532394985\n",
      "ratio of positive/negative predictions 0.05166721459371121\n"
     ]
    }
   ],
   "source": [
    "from sklearn.ensemble import RandomForestClassifier\n",
    "\n",
    "random_forest_clf = RandomForestClassifier(min_samples_leaf=2, class_weight=\"balanced\")\n",
    "\n",
    "do_test(random_forest_clf, X, y, random_forest_file_name, should_train_random_forest)"
   ]
  },
  {
   "cell_type": "markdown",
   "metadata": {
    "hideCode": false,
    "hidePrompt": false
   },
   "source": [
    "### AdaBoost Baseline\n",
    "\n",
    "AdaBoost gives the best results and is relatively fast to train. It is slower than random forests, but still faster than bagging svms."
   ]
  },
  {
   "cell_type": "code",
   "execution_count": 22,
   "metadata": {
    "hideCode": false,
    "hidePrompt": false
   },
   "outputs": [
    {
     "name": "stdout",
     "output_type": "stream",
     "text": [
      "Accuracy: 0.7394929726436992\n",
      "Precision: 0.6803645745677411\n",
      "Recall: 0.1984073000807087\n",
      "F1: 0.30721909881604825\n",
      "ratio of positive/negative predictions 0.2911336536033801\n"
     ]
    }
   ],
   "source": [
    "from sklearn.ensemble import AdaBoostClassifier\n",
    "from sklearn.tree import DecisionTreeClassifier\n",
    "\n",
    "adaboost_clf = AdaBoostClassifier(DecisionTreeClassifier(max_depth=2, class_weight=\"balanced\"), n_estimators=100)\n",
    "\n",
    "do_test(adaboost_clf, X, y, adaboost_file_name, should_train_adaboost)"
   ]
  },
  {
   "cell_type": "markdown",
   "metadata": {},
   "source": [
    "### BLSTM for emoji location prediction\n",
    "\n",
    "Bidirectional long short-term memory recurrent network implementation using the Keras framework. Emoji location prediction is treated as a binary classification problem. INPUT_SIZE determines how much of the tweets are used for training. The model uses an embedding layer and its size is a hyperparameter. A single bidirectional layer is used which actually consists of two LSTM layers."
   ]
  },
  {
   "cell_type": "code",
   "execution_count": 13,
   "metadata": {
    "collapsed": true
   },
   "outputs": [],
   "source": [
    "from pandas import DataFrame\n",
    "\n",
    "N_TIMESTEPS = MAX_WORDS_PER_TWEET\n",
    "N_CLASSES = 2\n",
    "INPUT_SIZE = len(text_lines)\n",
    "EMBEDDING_SIZE = 200\n",
    "HIDDEN_SIZE = 100\n",
    "PARAMETER_STR = str(N_CLASSES) + \"_\" + str(INPUT_SIZE) + \"_\" + str(EMBEDDING_SIZE) + \"_\" + str(HIDDEN_SIZE)\n",
    "\n",
    "dummy_text = [\"\"\" Jack and Jill went up the hill\\n\n",
    "        To fetch a pail of water\\n\n",
    "        Jack fell down and broke his crown\\n\n",
    "        And Jill came tumbling after\\n \"\"\"]\n",
    "\n",
    "BLSTM_MODEL_FILE_NAME = \"blstm_model_\" + PARAMETER_STR + \".h5\""
   ]
  },
  {
   "cell_type": "markdown",
   "metadata": {},
   "source": [
    "### Data preparation\n",
    "\n",
    "Words are converted to integer ids using a tokenizer. Each unique word has its own unique integer value. Tweets are padded with zeros to a set length. Padding is required by Keras. Since most of the labels are zero (emojis are present after every 15th word), class weights are calculated. Without class weights the model behaves like a majority class classifier which is of no use here."
   ]
  },
  {
   "cell_type": "code",
   "execution_count": 14,
   "metadata": {},
   "outputs": [
    {
     "name": "stdout",
     "output_type": "stream",
     "text": [
      "encoded:\n",
      "[[138, 219, 6254, 61], [302, 59, 6, 63, 2201, 15, 1, 672, 2926, 14307], [1542, 36, 7, 2270, 5570, 217, 363], [2, 2481, 8316, 81], [3, 128, 964, 18210]]\n",
      "\n",
      "Vocabulary Size: 288020\n",
      "input shape: (473370, 30)\n",
      "BLSTM input example:\n",
      "[[  138   219  6254    61     0     0     0     0     0     0     0     0\n",
      "      0     0     0     0     0     0     0     0     0     0     0     0\n",
      "      0     0     0     0     0     0]\n",
      " [  302    59     6    63  2201    15     1   672  2926 14307     0     0\n",
      "      0     0     0     0     0     0     0     0     0     0     0     0\n",
      "      0     0     0     0     0     0]\n",
      " [ 1542    36     7  2270  5570   217   363     0     0     0     0     0\n",
      "      0     0     0     0     0     0     0     0     0     0     0     0\n",
      "      0     0     0     0     0     0]\n",
      " [    2  2481  8316    81     0     0     0     0     0     0     0     0\n",
      "      0     0     0     0     0     0     0     0     0     0     0     0\n",
      "      0     0     0     0     0     0]\n",
      " [    3   128   964 18210     0     0     0     0     0     0     0     0\n",
      "      0     0     0     0     0     0     0     0     0     0     0     0\n",
      "      0     0     0     0     0     0]]\n",
      "\n",
      "labels shape: (473370, 30, 2)\n",
      "class weight dict:\n",
      "{0: 0.51625011296640588, 1: 15.884508434915471}\n",
      "\n",
      "sample_weights shape: (473370, 30)\n",
      "sample_weights examples:\n",
      "[[ 15.88450843   0.51625011   0.51625011   0.51625011   0.51625011\n",
      "    0.51625011   0.51625011   0.51625011   0.51625011   0.51625011\n",
      "    0.51625011   0.51625011   0.51625011   0.51625011   0.51625011\n",
      "    0.51625011   0.51625011   0.51625011   0.51625011   0.51625011\n",
      "    0.51625011   0.51625011   0.51625011   0.51625011   0.51625011\n",
      "    0.51625011   0.51625011   0.51625011   0.51625011   0.51625011]\n",
      " [  0.51625011   0.51625011   0.51625011   0.51625011   0.51625011\n",
      "    0.51625011   0.51625011  15.88450843   0.51625011   0.51625011\n",
      "    0.51625011   0.51625011   0.51625011   0.51625011   0.51625011\n",
      "    0.51625011   0.51625011   0.51625011   0.51625011   0.51625011\n",
      "    0.51625011   0.51625011   0.51625011   0.51625011   0.51625011\n",
      "    0.51625011   0.51625011   0.51625011   0.51625011   0.51625011]\n",
      " [  0.51625011   0.51625011   0.51625011   0.51625011  15.88450843\n",
      "    0.51625011   0.51625011   0.51625011   0.51625011   0.51625011\n",
      "    0.51625011   0.51625011   0.51625011   0.51625011   0.51625011\n",
      "    0.51625011   0.51625011   0.51625011   0.51625011   0.51625011\n",
      "    0.51625011   0.51625011   0.51625011   0.51625011   0.51625011\n",
      "    0.51625011   0.51625011   0.51625011   0.51625011   0.51625011]\n",
      " [  0.51625011   0.51625011   0.51625011   0.51625011   0.51625011\n",
      "    0.51625011   0.51625011   0.51625011   0.51625011   0.51625011\n",
      "    0.51625011   0.51625011   0.51625011   0.51625011   0.51625011\n",
      "    0.51625011   0.51625011   0.51625011   0.51625011   0.51625011\n",
      "    0.51625011   0.51625011   0.51625011   0.51625011   0.51625011\n",
      "    0.51625011   0.51625011   0.51625011   0.51625011   0.51625011]\n",
      " [  0.51625011   0.51625011  15.88450843   0.51625011   0.51625011\n",
      "    0.51625011   0.51625011   0.51625011   0.51625011   0.51625011\n",
      "    0.51625011   0.51625011   0.51625011   0.51625011   0.51625011\n",
      "    0.51625011   0.51625011   0.51625011   0.51625011   0.51625011\n",
      "    0.51625011   0.51625011   0.51625011   0.51625011   0.51625011\n",
      "    0.51625011   0.51625011   0.51625011   0.51625011   0.51625011]]\n",
      "\n"
     ]
    }
   ],
   "source": [
    "from keras.preprocessing.text import Tokenizer\n",
    "from keras.preprocessing.sequence import pad_sequences\n",
    "from keras.utils import to_categorical\n",
    "from sklearn.utils import class_weight\n",
    "\n",
    "# integer encode text\n",
    "X_input = text_lines[:INPUT_SIZE]\n",
    "tokenizer = Tokenizer()\n",
    "tokenizer.fit_on_texts(X_input)\n",
    "txt_to_seq = tokenizer.texts_to_sequences(X_input)\n",
    "print(f\"encoded:\\n{txt_to_seq[0:5]}\\n\")\n",
    "# determine the vocabulary size\n",
    "vocab_size = len(tokenizer.word_index) + 1\n",
    "print(f\"Vocabulary Size: {vocab_size}\")\n",
    "\n",
    "# pad input sequences\n",
    "X_blstm = pad_sequences(txt_to_seq, maxlen=N_TIMESTEPS, padding='post')\n",
    "print(f\"input shape: {X_blstm.shape}\")\n",
    "print(f\"BLSTM input example:\\n{X_blstm[:5]}\\n\")\n",
    "\n",
    "y_loc = loc_lines[:INPUT_SIZE,1:]\n",
    "y_blstm = to_categorical(y_loc, num_classes=N_CLASSES)\n",
    "print(f\"labels shape: {y_blstm.shape}\")\n",
    "# print(f\"BLSTM labels:\\n{y_blstm[:5]}\\n\")\n",
    "\n",
    "weights = class_weight.compute_class_weight('balanced', np.unique(y_loc), y_loc.flatten())\n",
    "class_weight_dict = dict(enumerate(weights))\n",
    "print(f\"class weight dict:\\n{class_weight_dict}\\n\")\n",
    "\n",
    "vfunc = np.vectorize(lambda x: class_weight_dict[x])\n",
    "sample_weights = vfunc(y_loc)\n",
    "print(f\"sample_weights shape: {sample_weights.shape}\")\n",
    "print(f\"sample_weights examples:\\n{sample_weights[:5]}\\n\")"
   ]
  },
  {
   "cell_type": "markdown",
   "metadata": {},
   "source": [
    " ### Train model\n",
    " \n",
    " The following code is used to create and train a new model."
   ]
  },
  {
   "cell_type": "code",
   "execution_count": 22,
   "metadata": {},
   "outputs": [
    {
     "name": "stdout",
     "output_type": "stream",
     "text": [
      "Train on 95000 samples, validate on 5000 samples\n",
      "Epoch 1/10\n",
      " - 325s - loss: 0.2287 - acc: 0.8745 - val_loss: 0.2096 - val_acc: 0.9040\n",
      "Epoch 2/10\n",
      " - 320s - loss: 0.1387 - acc: 0.9357 - val_loss: 0.2214 - val_acc: 0.9180\n",
      "Epoch 3/10\n",
      " - 287s - loss: 0.0826 - acc: 0.9633 - val_loss: 0.3331 - val_acc: 0.9431\n",
      "Epoch 4/10\n",
      " - 275s - loss: 0.0528 - acc: 0.9766 - val_loss: 0.4207 - val_acc: 0.9398\n",
      "Epoch 5/10\n",
      " - 274s - loss: 0.0370 - acc: 0.9839 - val_loss: 0.5581 - val_acc: 0.9507\n",
      "Epoch 6/10\n",
      " - 273s - loss: 0.0270 - acc: 0.9883 - val_loss: 0.6853 - val_acc: 0.9493\n",
      "Epoch 7/10\n",
      " - 274s - loss: 0.0209 - acc: 0.9911 - val_loss: 0.8283 - val_acc: 0.9556\n",
      "Epoch 8/10\n",
      " - 275s - loss: 0.0162 - acc: 0.9932 - val_loss: 0.9035 - val_acc: 0.9549\n",
      "Epoch 9/10\n",
      " - 273s - loss: 0.0131 - acc: 0.9945 - val_loss: 1.0044 - val_acc: 0.9547\n",
      "Epoch 10/10\n",
      " - 273s - loss: 0.0108 - acc: 0.9955 - val_loss: 1.0822 - val_acc: 0.9543\n"
     ]
    }
   ],
   "source": [
    "from keras.models import Sequential\n",
    "from keras.layers import Embedding\n",
    "from keras.layers import LSTM\n",
    "from keras.layers import Dense\n",
    "from keras.layers import TimeDistributed\n",
    "from keras.layers import Bidirectional\n",
    "\n",
    "should_train_blstm = True\n",
    "\n",
    "def get_bi_lstm_model(embedding_size=EMBEDDING_SIZE, hidden_size=HIDDEN_SIZE, n_timesteps=N_TIMESTEPS, mode=\"concat\"):\n",
    "    model = Sequential()\n",
    "    model.add(Embedding(vocab_size, embedding_size, input_length=N_TIMESTEPS))\n",
    "    model.add(Bidirectional(LSTM(hidden_size, return_sequences=True), merge_mode=mode))\n",
    "    model.add(TimeDistributed(Dense(N_CLASSES, activation='softmax')))\n",
    "    model.compile(loss='binary_crossentropy', optimizer='adam', metrics=[\"accuracy\"], sample_weight_mode=\"temporal\")\n",
    "    return model\n",
    "\n",
    "if should_train_blstm:\n",
    "    blstm = get_bi_lstm_model()\n",
    "    blstm.fit(X_blstm, y_blstm, epochs=10, validation_split=0.05, verbose=2, sample_weight=sample_weights)\n",
    "    save_blstm(blstm, EMBEDDING_SIZE, HIDDEN_SIZE)"
   ]
  },
  {
   "cell_type": "code",
   "execution_count": 9,
   "metadata": {},
   "outputs": [
    {
     "name": "stderr",
     "output_type": "stream",
     "text": [
      "Using TensorFlow backend.\n"
     ]
    }
   ],
   "source": [
    "from keras.models import load_model\n",
    "\n",
    "def get_blstm_file_name(embedding_size, hidden_size):\n",
    "    param_str = str(N_CLASSES) + \"_\" + str(INPUT_SIZE) + \"_\" + str(embedding_size) + \"_\" + str(hidden_size)\n",
    "    return \"blstm_model_\" + param_str + \".h5\"\n",
    "\n",
    "def save_blstm(blstm, embedding_size, hidden_size):\n",
    "    blstm.save(get_blstm_file_name(embedding_size, hidden_size))\n",
    "\n",
    "def load_blstm(embedding_size, hidden_size):\n",
    "    return load_model(get_blstm_file_name(embedding_size, hidden_size))\n",
    "\n",
    "hidden_sizes = [15, 25, 50]\n",
    "embedding_sizes = [20, 50, 100]"
   ]
  },
  {
   "cell_type": "code",
   "execution_count": 37,
   "metadata": {},
   "outputs": [
    {
     "name": "stdout",
     "output_type": "stream",
     "text": [
      "Train on 95000 samples, validate on 5000 samples\n",
      "Epoch 1/10\n",
      " - 249s - loss: 0.2594 - acc: 0.8484 - val_loss: 0.2270 - val_acc: 0.8801\n",
      "Epoch 2/10\n",
      " - 245s - loss: 0.1791 - acc: 0.9136 - val_loss: 0.2265 - val_acc: 0.9021\n",
      "Epoch 3/10\n",
      " - 246s - loss: 0.1339 - acc: 0.9393 - val_loss: 0.2617 - val_acc: 0.9169\n",
      "Epoch 4/10\n",
      " - 246s - loss: 0.1030 - acc: 0.9542 - val_loss: 0.3230 - val_acc: 0.9277\n",
      "Epoch 5/10\n",
      " - 246s - loss: 0.0822 - acc: 0.9632 - val_loss: 0.4032 - val_acc: 0.9353\n",
      "Epoch 6/10\n",
      " - 248s - loss: 0.0676 - acc: 0.9700 - val_loss: 0.4503 - val_acc: 0.9374\n",
      "Epoch 7/10\n",
      " - 245s - loss: 0.0570 - acc: 0.9747 - val_loss: 0.5370 - val_acc: 0.9432\n",
      "Epoch 8/10\n",
      " - 246s - loss: 0.0484 - acc: 0.9787 - val_loss: 0.6191 - val_acc: 0.9396\n",
      "Epoch 9/10\n",
      " - 246s - loss: 0.0421 - acc: 0.9815 - val_loss: 0.6204 - val_acc: 0.9428\n",
      "Epoch 10/10\n",
      " - 246s - loss: 0.0364 - acc: 0.9841 - val_loss: 0.7599 - val_acc: 0.9439\n",
      "Train on 95000 samples, validate on 5000 samples\n",
      "Epoch 1/10\n",
      " - 241s - loss: 0.2470 - acc: 0.8598 - val_loss: 0.2197 - val_acc: 0.8902\n",
      "Epoch 2/10\n",
      " - 236s - loss: 0.1650 - acc: 0.9215 - val_loss: 0.2267 - val_acc: 0.9122\n",
      "Epoch 3/10\n",
      " - 241s - loss: 0.1143 - acc: 0.9486 - val_loss: 0.2618 - val_acc: 0.9192\n",
      "Epoch 4/10\n",
      " - 243s - loss: 0.0824 - acc: 0.9636 - val_loss: 0.3583 - val_acc: 0.9371\n",
      "Epoch 5/10\n",
      " - 240s - loss: 0.0622 - acc: 0.9728 - val_loss: 0.4402 - val_acc: 0.9402\n",
      "Epoch 6/10\n",
      " - 240s - loss: 0.0491 - acc: 0.9786 - val_loss: 0.5070 - val_acc: 0.9428\n",
      "Epoch 7/10\n",
      " - 238s - loss: 0.0397 - acc: 0.9829 - val_loss: 0.6269 - val_acc: 0.9454\n",
      "Epoch 8/10\n",
      " - 236s - loss: 0.0330 - acc: 0.9859 - val_loss: 0.6933 - val_acc: 0.9465\n",
      "Epoch 9/10\n",
      " - 236s - loss: 0.0278 - acc: 0.9883 - val_loss: 0.7562 - val_acc: 0.9476\n",
      "Epoch 10/10\n",
      " - 236s - loss: 0.0237 - acc: 0.9901 - val_loss: 0.8195 - val_acc: 0.9460\n",
      "Train on 95000 samples, validate on 5000 samples\n",
      "Epoch 1/10\n",
      " - 252s - loss: 0.2447 - acc: 0.8609 - val_loss: 0.2208 - val_acc: 0.8745\n",
      "Epoch 2/10\n",
      " - 247s - loss: 0.1608 - acc: 0.9225 - val_loss: 0.2233 - val_acc: 0.9103\n",
      "Epoch 3/10\n",
      " - 248s - loss: 0.1064 - acc: 0.9517 - val_loss: 0.2883 - val_acc: 0.9316\n",
      "Epoch 4/10\n",
      " - 248s - loss: 0.0741 - acc: 0.9670 - val_loss: 0.3573 - val_acc: 0.9336\n",
      "Epoch 5/10\n",
      " - 248s - loss: 0.0549 - acc: 0.9758 - val_loss: 0.4519 - val_acc: 0.9402\n",
      "Epoch 6/10\n",
      " - 250s - loss: 0.0421 - acc: 0.9817 - val_loss: 0.5859 - val_acc: 0.9505\n",
      "Epoch 7/10\n",
      " - 249s - loss: 0.0333 - acc: 0.9856 - val_loss: 0.6130 - val_acc: 0.9437\n",
      "Epoch 8/10\n",
      " - 248s - loss: 0.0264 - acc: 0.9886 - val_loss: 0.7527 - val_acc: 0.9498\n",
      "Epoch 9/10\n",
      " - 247s - loss: 0.0216 - acc: 0.9908 - val_loss: 0.8718 - val_acc: 0.9533\n",
      "Epoch 10/10\n",
      " - 247s - loss: 0.0181 - acc: 0.9924 - val_loss: 0.9318 - val_acc: 0.9537\n",
      "Train on 95000 samples, validate on 5000 samples\n",
      "Epoch 1/10\n",
      " - 231s - loss: 0.2534 - acc: 0.8534 - val_loss: 0.2250 - val_acc: 0.8795\n",
      "Epoch 2/10\n",
      " - 230s - loss: 0.1773 - acc: 0.9148 - val_loss: 0.2262 - val_acc: 0.9095\n",
      "Epoch 3/10\n",
      " - 230s - loss: 0.1320 - acc: 0.9402 - val_loss: 0.2645 - val_acc: 0.9230\n",
      "Epoch 4/10\n",
      " - 230s - loss: 0.0999 - acc: 0.9554 - val_loss: 0.3295 - val_acc: 0.9346\n",
      "Epoch 5/10\n",
      " - 230s - loss: 0.0795 - acc: 0.9646 - val_loss: 0.4060 - val_acc: 0.9389\n",
      "Epoch 6/10\n",
      " - 230s - loss: 0.0649 - acc: 0.9712 - val_loss: 0.4525 - val_acc: 0.9390\n",
      "Epoch 7/10\n",
      " - 233s - loss: 0.0541 - acc: 0.9760 - val_loss: 0.5368 - val_acc: 0.9410\n",
      "Epoch 8/10\n",
      " - 234s - loss: 0.0461 - acc: 0.9798 - val_loss: 0.5876 - val_acc: 0.9398\n",
      "Epoch 9/10\n",
      " - 233s - loss: 0.0393 - acc: 0.9829 - val_loss: 0.6333 - val_acc: 0.9399\n",
      "Epoch 10/10\n",
      " - 231s - loss: 0.0341 - acc: 0.9853 - val_loss: 0.7059 - val_acc: 0.9418\n",
      "Train on 95000 samples, validate on 5000 samples\n",
      "Epoch 1/10\n",
      " - 241s - loss: 0.2431 - acc: 0.8635 - val_loss: 0.2174 - val_acc: 0.8896\n",
      "Epoch 2/10\n",
      " - 238s - loss: 0.1621 - acc: 0.9240 - val_loss: 0.2341 - val_acc: 0.9216\n",
      "Epoch 3/10\n",
      " - 240s - loss: 0.1116 - acc: 0.9499 - val_loss: 0.2811 - val_acc: 0.9288\n",
      "Epoch 4/10\n",
      " - 238s - loss: 0.0804 - acc: 0.9642 - val_loss: 0.3577 - val_acc: 0.9399\n",
      "Epoch 5/10\n",
      " - 238s - loss: 0.0601 - acc: 0.9734 - val_loss: 0.5147 - val_acc: 0.9503\n",
      "Epoch 6/10\n",
      " - 241s - loss: 0.0467 - acc: 0.9794 - val_loss: 0.5390 - val_acc: 0.9445\n",
      "Epoch 7/10\n",
      " - 238s - loss: 0.0378 - acc: 0.9836 - val_loss: 0.6598 - val_acc: 0.9505\n",
      "Epoch 8/10\n",
      " - 240s - loss: 0.0310 - acc: 0.9866 - val_loss: 0.7049 - val_acc: 0.9457\n",
      "Epoch 9/10\n",
      " - 242s - loss: 0.0258 - acc: 0.9890 - val_loss: 0.8145 - val_acc: 0.9466\n",
      "Epoch 10/10\n",
      " - 242s - loss: 0.0219 - acc: 0.9907 - val_loss: 0.8536 - val_acc: 0.9515\n",
      "Train on 95000 samples, validate on 5000 samples\n",
      "Epoch 1/10\n",
      " - 255s - loss: 0.2389 - acc: 0.8671 - val_loss: 0.2135 - val_acc: 0.8897\n",
      "Epoch 2/10\n",
      " - 250s - loss: 0.1547 - acc: 0.9273 - val_loss: 0.2252 - val_acc: 0.9139\n",
      "Epoch 3/10\n",
      " - 248s - loss: 0.1006 - acc: 0.9546 - val_loss: 0.2970 - val_acc: 0.9329\n",
      "Epoch 4/10\n",
      " - 252s - loss: 0.0690 - acc: 0.9693 - val_loss: 0.3951 - val_acc: 0.9416\n",
      "Epoch 5/10\n",
      " - 253s - loss: 0.0505 - acc: 0.9777 - val_loss: 0.4699 - val_acc: 0.9419\n",
      "Epoch 6/10\n",
      " - 253s - loss: 0.0381 - acc: 0.9833 - val_loss: 0.6002 - val_acc: 0.9502\n",
      "Epoch 7/10\n",
      " - 252s - loss: 0.0299 - acc: 0.9871 - val_loss: 0.6752 - val_acc: 0.9433\n",
      "Epoch 8/10\n",
      " - 248s - loss: 0.0240 - acc: 0.9897 - val_loss: 0.7719 - val_acc: 0.9491\n",
      "Epoch 9/10\n",
      " - 248s - loss: 0.0199 - acc: 0.9915 - val_loss: 0.8833 - val_acc: 0.9529\n",
      "Epoch 10/10\n",
      " - 248s - loss: 0.0168 - acc: 0.9930 - val_loss: 0.8744 - val_acc: 0.9493\n",
      "Train on 95000 samples, validate on 5000 samples\n",
      "Epoch 1/10\n",
      " - 238s - loss: 0.2516 - acc: 0.8537 - val_loss: 0.2207 - val_acc: 0.8866\n",
      "Epoch 2/10\n",
      " - 235s - loss: 0.1724 - acc: 0.9179 - val_loss: 0.2256 - val_acc: 0.9036\n",
      "Epoch 3/10\n",
      " - 236s - loss: 0.1240 - acc: 0.9448 - val_loss: 0.2787 - val_acc: 0.9287\n",
      "Epoch 4/10\n",
      " - 235s - loss: 0.0923 - acc: 0.9598 - val_loss: 0.3124 - val_acc: 0.9226\n",
      "Epoch 5/10\n",
      " - 236s - loss: 0.0726 - acc: 0.9684 - val_loss: 0.4107 - val_acc: 0.9330\n",
      "Epoch 6/10\n",
      " - 235s - loss: 0.0589 - acc: 0.9743 - val_loss: 0.4935 - val_acc: 0.9370\n",
      "Epoch 7/10\n",
      " - 231s - loss: 0.0489 - acc: 0.9786 - val_loss: 0.5615 - val_acc: 0.9390\n",
      "Epoch 8/10\n",
      " - 231s - loss: 0.0413 - acc: 0.9821 - val_loss: 0.6344 - val_acc: 0.9403\n",
      "Epoch 9/10\n",
      " - 232s - loss: 0.0348 - acc: 0.9848 - val_loss: 0.7039 - val_acc: 0.9438\n",
      "Epoch 10/10\n",
      " - 231s - loss: 0.0303 - acc: 0.9869 - val_loss: 0.7681 - val_acc: 0.9446\n",
      "Train on 95000 samples, validate on 5000 samples\n",
      "Epoch 1/10\n",
      " - 240s - loss: 0.2418 - acc: 0.8638 - val_loss: 0.2156 - val_acc: 0.8900\n",
      "Epoch 2/10\n",
      " - 237s - loss: 0.1606 - acc: 0.9246 - val_loss: 0.2271 - val_acc: 0.9048\n",
      "Epoch 3/10\n",
      " - 237s - loss: 0.1093 - acc: 0.9510 - val_loss: 0.2734 - val_acc: 0.9183\n",
      "Epoch 4/10\n",
      " - 237s - loss: 0.0779 - acc: 0.9655 - val_loss: 0.3435 - val_acc: 0.9331\n",
      "Epoch 5/10\n",
      " - 237s - loss: 0.0579 - acc: 0.9743 - val_loss: 0.4598 - val_acc: 0.9421\n",
      "Epoch 6/10\n",
      " - 237s - loss: 0.0446 - acc: 0.9804 - val_loss: 0.5455 - val_acc: 0.9432\n",
      "Epoch 7/10\n",
      " - 237s - loss: 0.0357 - acc: 0.9845 - val_loss: 0.6622 - val_acc: 0.9439\n",
      "Epoch 8/10\n",
      " - 237s - loss: 0.0290 - acc: 0.9874 - val_loss: 0.6660 - val_acc: 0.9456\n",
      "Epoch 9/10\n",
      " - 237s - loss: 0.0238 - acc: 0.9897 - val_loss: 0.8323 - val_acc: 0.9506\n",
      "Epoch 10/10\n",
      " - 237s - loss: 0.0199 - acc: 0.9915 - val_loss: 0.9347 - val_acc: 0.9524\n",
      "Train on 95000 samples, validate on 5000 samples\n",
      "Epoch 1/10\n",
      " - 250s - loss: 0.2354 - acc: 0.8691 - val_loss: 0.2093 - val_acc: 0.8955\n",
      "Epoch 2/10\n",
      " - 247s - loss: 0.1507 - acc: 0.9295 - val_loss: 0.2278 - val_acc: 0.9183\n",
      "Epoch 3/10\n",
      " - 248s - loss: 0.0971 - acc: 0.9567 - val_loss: 0.2865 - val_acc: 0.9282\n",
      "Epoch 4/10\n",
      " - 248s - loss: 0.0666 - acc: 0.9705 - val_loss: 0.3510 - val_acc: 0.9335\n",
      "Epoch 5/10\n",
      " - 247s - loss: 0.0477 - acc: 0.9789 - val_loss: 0.4928 - val_acc: 0.9454\n",
      "Epoch 6/10\n",
      " - 248s - loss: 0.0358 - acc: 0.9843 - val_loss: 0.5846 - val_acc: 0.9449\n",
      "Epoch 7/10\n",
      " - 247s - loss: 0.0281 - acc: 0.9879 - val_loss: 0.7190 - val_acc: 0.9497\n",
      "Epoch 8/10\n",
      " - 252s - loss: 0.0226 - acc: 0.9904 - val_loss: 0.7776 - val_acc: 0.9479\n",
      "Epoch 9/10\n",
      " - 253s - loss: 0.0180 - acc: 0.9923 - val_loss: 0.9468 - val_acc: 0.9534\n",
      "Epoch 10/10\n",
      " - 251s - loss: 0.0152 - acc: 0.9936 - val_loss: 0.9493 - val_acc: 0.9518\n"
     ]
    }
   ],
   "source": [
    "for hidden_size in hidden_sizes:\n",
    "    for embedding_size in embedding_sizes:\n",
    "        blstm = get_bi_lstm_model(embedding_size=embedding_size, hidden_size=hidden_size)\n",
    "        blstm.fit(X_blstm, y_blstm, epochs=10, validation_split=0.05, verbose=2, sample_weight=sample_weights)\n",
    "        save_blstm(blstm, embedding_size, hidden_size)"
   ]
  },
  {
   "cell_type": "markdown",
   "metadata": {},
   "source": [
    "### Load a model\n",
    "\n",
    "The following block is used to load models."
   ]
  },
  {
   "cell_type": "code",
   "execution_count": 10,
   "metadata": {},
   "outputs": [],
   "source": [
    "blstm = load_model(BLSTM_MODEL_FILE_NAME)"
   ]
  },
  {
   "cell_type": "code",
   "execution_count": 15,
   "metadata": {},
   "outputs": [
    {
     "name": "stdout",
     "output_type": "stream",
     "text": [
      "example of labels (emoji locations):\n",
      "[[0 1 0 0 0 0 0 0 0 0 0 0 0 0 0 0 0 0 0 0 0 0 0 0 0 0 0 0 0 0 0]\n",
      " [0 0 0 0 0 0 0 0 1 0 0 0 0 0 0 0 0 0 0 0 0 0 0 0 0 0 0 0 0 0 0]\n",
      " [0 0 0 0 0 1 0 0 0 0 0 0 0 0 0 0 0 0 0 0 0 0 0 0 0 0 0 0 0 0 0]\n",
      " [1 0 0 0 0 0 0 0 0 0 0 0 0 0 0 0 0 0 0 0 0 0 0 0 0 0 0 0 0 0 0]\n",
      " [0 0 0 1 0 0 0 0 0 0 0 0 0 0 0 0 0 0 0 0 0 0 0 0 0 0 0 0 0 0 0]\n",
      " [0 0 0 0 0 0 0 0 0 0 0 0 0 0 1 0 0 0 0 0 0 0 0 0 0 0 0 0 0 0 0]\n",
      " [1 0 0 0 0 0 0 0 0 0 0 0 0 0 1 0 0 0 0 0 0 0 0 0 0 0 0 0 0 0 0]\n",
      " [0 0 0 1 0 0 0 0 0 0 0 0 0 0 0 0 0 0 0 0 0 0 0 0 0 0 0 0 0 0 0]\n",
      " [1 0 0 0 0 0 0 0 0 0 0 0 0 0 0 0 0 0 0 0 0 0 0 0 0 0 0 0 0 0 0]\n",
      " [0 0 0 0 0 0 0 0 1 0 0 0 0 0 0 0 0 0 0 0 0 0 0 0 0 0 0 0 0 0 0]]\n",
      "\n",
      "model predictions:\n",
      "[[0 0 1 1 0 0 0 0 0 0 0 0 0 0 0 0 0 0 0 0 0 0 0 0 0 0 0 0 0 0 0]\n",
      " [0 0 0 1 0 0 0 0 1 0 0 0 0 0 0 0 0 0 0 0 0 0 0 0 0 0 0 0 0 0 0]\n",
      " [0 0 0 0 0 0 0 0 0 0 0 0 0 0 0 0 0 0 0 0 0 0 0 0 0 0 0 0 0 0 0]\n",
      " [0 0 0 0 1 0 0 0 0 0 0 0 0 0 0 0 0 0 0 0 0 0 0 0 0 0 0 0 0 0 0]\n",
      " [0 1 0 1 1 0 0 0 0 0 0 0 0 0 0 0 0 0 0 0 0 0 0 0 0 0 0 0 0 0 0]\n",
      " [0 1 0 1 0 0 0 1 0 0 0 0 0 0 0 0 0 0 0 0 0 0 0 0 0 0 0 0 0 0 0]\n",
      " [0 0 0 0 0 0 0 0 0 0 0 0 1 0 0 0 0 0 0 0 0 0 0 0 0 0 0 0 0 0 0]\n",
      " [0 0 0 0 1 0 0 0 0 0 0 0 0 0 0 0 0 0 0 0 0 0 0 0 0 0 0 0 0 0 0]\n",
      " [0 0 1 0 1 0 0 0 0 0 0 0 0 0 0 0 0 0 0 0 0 0 0 0 0 0 0 0 0 0 0]\n",
      " [0 1 0 0 0 0 0 0 1 0 0 0 0 0 0 0 0 0 0 0 0 0 0 0 0 0 0 0 0 0 0]]\n",
      "\n"
     ]
    }
   ],
   "source": [
    "NUM_OF_TWEETS_TO_TEST = 10\n",
    "\n",
    "def get_predictions(blstm, texts):\n",
    "    text_to_integer_sequences = tokenizer.texts_to_sequences(texts)\n",
    "    blstm_input = pad_sequences(text_to_integer_sequences, maxlen=N_TIMESTEPS, padding='post')\n",
    "    ypred = blstm.predict_classes(blstm_input)\n",
    "    return np.insert(ypred, 0, 0, axis=1)\n",
    "\n",
    "print(f\"example of labels (emoji locations):\\n{loc_lines[:NUM_OF_TWEETS_TO_TEST]}\\n\")\n",
    "print(f\"model predictions:\\n{get_predictions(blstm, text_lines[:NUM_OF_TWEETS_TO_TEST])}\\n\")"
   ]
  },
  {
   "cell_type": "markdown",
   "metadata": {},
   "source": [
    "### Load/Save predictions\n",
    "\n",
    "Use the code below to save/load a model's predictions. Training and testing the model requires a powerful Nvidia GPU and is time consuming. This also enables the evaluation of results without having to work with the model itself."
   ]
  },
  {
   "cell_type": "code",
   "execution_count": null,
   "metadata": {
    "collapsed": true
   },
   "outputs": [],
   "source": [
    "blstm_predictions_flag = False\n",
    "\n",
    "if blstm_predictions_flag:\n",
    "    BLSTM_PREDICTIONS_FILE_NAME = \"blstm_predictions_\" + PARAMETER_STR + \".pkl\"\n",
    "    predictions = get_predictions(text_lines)\n",
    "\n",
    "    result_dict = {}\n",
    "    result_dict[\"num_of_classes\"] = N_CLASSES\n",
    "    result_dict[\"num_of_input_tweets\"] = INPUT_SIZE\n",
    "    result_dict[\"embedding_size\"] = EMBEDDING_SIZE\n",
    "    result_dict[\"hidden_size\"] = HIDDEN_SIZE\n",
    "    result_dict[\"input_X\"] = X_blstm\n",
    "    result_dict[\"input_y\"] = y_blstm\n",
    "    result_dict[\"ypred\"] = predictions\n",
    "\n",
    "    joblib.dump(result_dict, BLSTM_PREDICTIONS_FILE_NAME)"
   ]
  },
  {
   "cell_type": "code",
   "execution_count": null,
   "metadata": {
    "collapsed": true
   },
   "outputs": [],
   "source": [
    "if blstm_predictions_flag:\n",
    "    result_dict = joblib.load(BLSTM_PREDICTIONS_FILE_NAME)"
   ]
  },
  {
   "cell_type": "markdown",
   "metadata": {},
   "source": [
    "### Evaluation"
   ]
  },
  {
   "cell_type": "code",
   "execution_count": 16,
   "metadata": {
    "collapsed": true
   },
   "outputs": [],
   "source": [
    "def evaluate_blstm(blstm, texts, labels):\n",
    "    predictions = get_predictions(blstm, texts)\n",
    "    print_scores(calc_scores(predictions.flatten(), labels.flatten()))"
   ]
  },
  {
   "cell_type": "code",
   "execution_count": 23,
   "metadata": {},
   "outputs": [
    {
     "name": "stdout",
     "output_type": "stream",
     "text": [
      "Accuracy: 0.9940264516129033\n",
      "Precision: 0.981683565757783\n",
      "Recall: 0.8559391608693774\n",
      "F1: 0.9145091594031616\n",
      "ratio of positive/negative predictions 0.03732741935483871\n"
     ]
    }
   ],
   "source": [
    "evaluate_blstm(blstm, text_lines, loc_lines)"
   ]
  },
  {
   "cell_type": "code",
   "execution_count": 20,
   "metadata": {},
   "outputs": [
    {
     "name": "stdout",
     "output_type": "stream",
     "text": [
      "Embedding 20 hidden 15\n",
      "Accuracy: 0.983071935483871\n",
      "Precision: 0.9831901122971861\n",
      "Recall: 0.6614103401832269\n",
      "F1: 0.7908207804010826\n",
      "ratio of positive/negative predictions 0.04838\n",
      "Embedding 50 hidden 15\n",
      "Accuracy: 0.9876364516129033\n",
      "Precision: 0.9831405548452321\n",
      "Recall: 0.7303302949535407\n",
      "F1: 0.8380852600850827\n",
      "ratio of positive/negative predictions 0.04381225806451613\n",
      "Embedding 100 hidden 15\n",
      "Accuracy: 0.9915103225806452\n",
      "Precision: 0.9825062194602202\n",
      "Recall: 0.8014812299383091\n",
      "F1: 0.8828092299197592\n",
      "ratio of positive/negative predictions 0.03989709677419355\n",
      "Embedding 20 hidden 25\n",
      "Accuracy: 0.9828290322580645\n",
      "Precision: 0.9840127659996234\n",
      "Recall: 0.6579322319197863\n",
      "F1: 0.7885936693276142\n",
      "ratio of positive/negative predictions 0.048676451612903224\n",
      "Embedding 50 hidden 25\n",
      "Accuracy: 0.9901735483870968\n",
      "Precision: 0.9824269275370937\n",
      "Recall: 0.7755322395136492\n",
      "F1: 0.866804837736443\n",
      "ratio of positive/negative predictions 0.04122870967741935\n",
      "Embedding 100 hidden 25\n",
      "Accuracy: 0.9912712903225807\n",
      "Precision: 0.9830216169605424\n",
      "Recall: 0.7964601769911505\n",
      "F1: 0.8799613164817518\n",
      "ratio of positive/negative predictions 0.040169677419354836\n",
      "Embedding 20 hidden 50\n",
      "Accuracy: 0.9862254838709678\n",
      "Precision: 0.982674714796864\n",
      "Recall: 0.7076831931933361\n",
      "F1: 0.8228108103622126\n",
      "ratio of positive/negative predictions 0.04519290322580645\n",
      "Embedding 50 hidden 50\n",
      "Accuracy: 0.9911545161290323\n",
      "Precision: 0.9816141853250473\n",
      "Recall: 0.7948219960835928\n",
      "F1: 0.8783974953103589\n",
      "ratio of positive/negative predictions 0.04019483870967742\n",
      "Embedding 100 hidden 50\n",
      "Accuracy: 0.9920038709677419\n",
      "Precision: 0.9824368390274846\n",
      "Recall: 0.8115558757788385\n",
      "F1: 0.8888580011657625\n",
      "ratio of positive/negative predictions 0.039399032258064515\n"
     ]
    }
   ],
   "source": [
    "for hidden_size in hidden_sizes:\n",
    "    for embedding_size in embedding_sizes:\n",
    "        blstm = load_blstm(embedding_size, hidden_size)\n",
    "        print(f\"\\nEmbedding {embedding_size} hidden {hidden_size}\")\n",
    "        evaluate_blstm(blstm, text_lines, loc_lines)"
   ]
  }
 ],
 "metadata": {
  "hide_code_all_hidden": false,
  "kernelspec": {
   "display_name": "Python 3",
   "language": "python",
   "name": "python3"
  },
  "language_info": {
   "codemirror_mode": {
    "name": "ipython",
    "version": 3
   },
   "file_extension": ".py",
   "mimetype": "text/x-python",
   "name": "python",
   "nbconvert_exporter": "python",
   "pygments_lexer": "ipython3",
   "version": "3.6.2"
  }
 },
 "nbformat": 4,
 "nbformat_minor": 2
}

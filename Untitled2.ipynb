{
 "cells": [
  {
   "cell_type": "markdown",
   "metadata": {
    "hideCode": false,
    "hidePrompt": false
   },
   "source": [
    "### 10 Emoji Prediction\n",
    "\n",
    "The task of this project is to make a system that would automatically fill the text with the appropriate emoticons. This can be done in two steps. First, for each position within the text a prediction is made whether an emoticon should be placed there. Second, an appropriate emoticon is chosen from a list of available emoticons. Both these tasks can be set up as supervised classification problems.\n",
    "\n",
    "Competition website:\n",
    "https://competitions.codalab.org/competitions/17344\n",
    "\n",
    "Dataset:\n",
    "https://competitions.codalab.org/competitions/17344\n",
    "\n",
    "Entry point:\n",
    "https://arxiv.org/pdf/1702.07285.pdf (Barbieri, Francesco, Miguel Ballesteros, and Horacio Saggion. Are Emojis Predictable?)"
   ]
  },
  {
   "cell_type": "code",
   "execution_count": 44,
   "metadata": {
    "hideCode": false,
    "hidePrompt": false
   },
   "outputs": [
    {
     "name": "stdout",
     "output_type": "stream",
     "text": [
      "Populating the interactive namespace from numpy and matplotlib\n"
     ]
    }
   ],
   "source": [
    "import numpy as np\n",
    "import scipy as sp\n",
    "import pandas as pd\n",
    "import matplotlib.pyplot as plt\n",
    "%pylab inline"
   ]
  },
  {
   "cell_type": "markdown",
   "metadata": {
    "hideCode": false,
    "hidePrompt": false
   },
   "source": [
    "Define paths to folders containing data and results."
   ]
  },
  {
   "cell_type": "code",
   "execution_count": 45,
   "metadata": {
    "collapsed": true,
    "hideCode": false,
    "hidePrompt": false
   },
   "outputs": [],
   "source": [
    "# promjena\n",
    "#NUMBER_OF_TWEETS = None\n",
    "NUMBER_OF_TWEETS = 100000\n",
    "\n",
    "MAX_WORDS_PER_TWEET = 30\n",
    "DATA_LOCATION = \"./train/data/\"\n",
    "RESULT_LOCATION = \"./result/\"\n",
    "\n",
    "# promjena\n",
    "#TWEET_FILE_NAME = \"tweet_by_ID_28_4_2018__03_20_05\" + \"_\"\n",
    "TWEET_FILE_NAME = \"tweet_by_ID_02_6_2018__05_40_21\" + \"_\"\n",
    "\n",
    "if NUMBER_OF_TWEETS is not None:\n",
    "    TWEET_FILE_NAME += str(NUMBER_OF_TWEETS)\n",
    "else:\n",
    "    TWEET_FILE_NAME += \"ALL\""
   ]
  },
  {
   "cell_type": "markdown",
   "metadata": {
    "hideCode": false,
    "hidePrompt": false
   },
   "source": [
    "### Load the data\n",
    "Tweets are loaded in two ways: list of strings (for the TF-IDF vectorizer) and a list of list of words (for feature extraction). Labels are read as a numpy array of N * MAX_WORDS_PER_TWEET dimensions."
   ]
  },
  {
   "cell_type": "code",
   "execution_count": 46,
   "metadata": {
    "hideCode": false,
    "hidePrompt": false
   },
   "outputs": [
    {
     "name": "stdout",
     "output_type": "stream",
     "text": [
      "example of tweet texts:\n",
      "['lol @ west covina , california', 'things got a little festive at the office #christmas2016 @ redrock', 'step out and explore . @ ellis island cafe', '@user @ cathedral preparatory school', \"my baby bear @ bubby's\"]\n",
      "\n",
      "example of labels (emoji locations):\n",
      "[[0 1 0 0 0 0 0 0 0 0 0 0 0 0 0 0 0 0 0 0 0 0 0 0 0 0 0 0 0 0 0]\n",
      " [0 0 0 0 0 0 0 0 1 0 0 0 0 0 0 0 0 0 0 0 0 0 0 0 0 0 0 0 0 0 0]\n",
      " [0 0 0 0 0 1 0 0 0 0 0 0 0 0 0 0 0 0 0 0 0 0 0 0 0 0 0 0 0 0 0]\n",
      " [1 0 0 0 0 0 0 0 0 0 0 0 0 0 0 0 0 0 0 0 0 0 0 0 0 0 0 0 0 0 0]\n",
      " [0 0 0 1 0 0 0 0 0 0 0 0 0 0 0 0 0 0 0 0 0 0 0 0 0 0 0 0 0 0 0]]\n",
      "example of labels (emoji type):\n",
      "[[ 0  3  0  0  0  0  0  0  0  0  0  0  0  0  0  0  0  0  0  0  0  0  0  0\n",
      "   0  0  0  0  0  0  0]\n",
      " [ 0  0  0  0  0  0  0  0 18  0  0  0  0  0  0  0  0  0  0  0  0  0  0  0\n",
      "   0  0  0  0  0  0  0]\n",
      " [ 0  0  0  0  0 20  0  0  0  0  0  0  0  0  0  0  0  0  0  0  0  0  0  0\n",
      "   0  0  0  0  0  0  0]\n",
      " [19  0  0  0  0  0  0  0  0  0  0  0  0  0  0  0  0  0  0  0  0  0  0  0\n",
      "   0  0  0  0  0  0  0]\n",
      " [ 0  0  0  2  0  0  0  0  0  0  0  0  0  0  0  0  0  0  0  0  0  0  0  0\n",
      "   0  0  0  0  0  0  0]]\n"
     ]
    }
   ],
   "source": [
    "base_file_name = DATA_LOCATION + TWEET_FILE_NAME\n",
    "\n",
    "text_lines = []\n",
    "text_lines_split = []\n",
    "\n",
    "with open(base_file_name + \".text\", 'r', encoding=\"utf-8\") as out_text:\n",
    "    for line in out_text:\n",
    "        text_lines.append(line[:-1])\n",
    "        text_lines_split.append(line[:-1].split())\n",
    "        \n",
    "loc_lines = []\n",
    "with open(base_file_name + \".loclabels\", 'r') as loc_labels:\n",
    "    for line in loc_labels:\n",
    "        loc_line = []\n",
    "        for c in line[:-1]:\n",
    "            loc_line.append(int(c))\n",
    "        loc_lines.append(loc_line)\n",
    "\n",
    "loc_lines = np.asarray(loc_lines)\n",
    "\n",
    "emo_lines = []\n",
    "with open(base_file_name + \".emolabels\", 'r') as emo_labels:\n",
    "    for e_line, loc in zip(emo_labels, loc_lines):\n",
    "        emo_line = [0]*31\n",
    "        e_line2 = e_line.split()\n",
    "        \n",
    "        br = 0\n",
    "        for idx, val in enumerate(loc[:-1]):\n",
    "            if val==1:\n",
    "                if int(e_line2[br])==0:\n",
    "                    emo_line[idx]=20\n",
    "                else:\n",
    "                    emo_line[idx]=int(e_line2[br])+1\n",
    "                br += 1\n",
    "        emo_lines.append(emo_line)\n",
    "        \n",
    "emo_lines = np.asarray(emo_lines)\n",
    "\n",
    "# full_text = open(base_file_name + \".full\", 'r')\n",
    "# emoji_labels = open(base_file_name + \".emolabels\", 'r')\n",
    "# emoji_ids = open(base_file_name + \".ids\", 'r')\n",
    "\n",
    "print(f\"example of tweet texts:\\n{text_lines[:5]}\\n\")\n",
    "print(f\"example of labels (emoji locations):\\n{loc_lines[:5]}\")\n",
    "print(f\"example of labels (emoji type):\\n{emo_lines[:5]}\")"
   ]
  },
  {
   "cell_type": "markdown",
   "metadata": {
    "hideCode": false,
    "hidePrompt": false
   },
   "source": [
    "### TF-IDF Feature Extraction\n",
    "TF-IDF is computed on the collection of tweets. Then for every position between words a new example is generated: a 2 * k array containing the k left and k right tfidf values of words. \n",
    "Labels for locations are taken as 1 or 0 wether an emoji was there in the original tweet.\n",
    "Labels for emojis are mapped to a number between 0 and 20 where 20 marks no appearance of emoji and the rest describes 20 most frequent emojis."
   ]
  },
  {
   "cell_type": "code",
   "execution_count": 47,
   "metadata": {
    "collapsed": true,
    "hideCode": false,
    "hidePrompt": false
   },
   "outputs": [],
   "source": [
    "from sklearn.feature_extraction.text import TfidfVectorizer\n",
    "import random\n",
    "\n",
    "X_tfidf = None\n",
    "word_to_tfidf_index_dict = {}\n",
    "\n",
    "\n",
    "# promjena\n",
    "def tfidf_features(tweets, loc_labels, emo_labels, k, func):\n",
    "    global word_to_tfidf_index_dict, X_tfidf\n",
    "    \n",
    "    tfidf_model = TfidfVectorizer(input=\"content\", analyzer=\"word\", stop_words=\"english\")\n",
    "    X_tfidf = tfidf_model.fit_transform(text_lines)\n",
    "\n",
    "    #word_to_tfidf_index_dict = {}\n",
    "    for i, word in enumerate(tfidf_model.get_feature_names()):\n",
    "        word_to_tfidf_index_dict[word] = i\n",
    "\n",
    "    print(f\"X shape {X_tfidf.shape}\")\n",
    "    print(f\"y_l shape {loc_lines.shape}\")\n",
    "    print(f\"y_e shape {emo_lines.shape}\")\n",
    "    print(f\"some tf-idf values\\n{X_tfidf[0]}\\n\")\n",
    "\n",
    "    N = len(tweets)\n",
    "    X = []\n",
    "    y_l = []\n",
    "    y_e = []\n",
    "    \n",
    "    for tweet_index, (tweet, l_label, e_label) in enumerate(zip(tweets, loc_labels, emo_labels)):\n",
    "        for pos in range(len(tweet) + 1):\n",
    "                \n",
    "            x = []\n",
    "            for i in range(pos - k, pos + k):\n",
    "                if i < 0 or i >= len(tweet):\n",
    "                    x.append(0.0)\n",
    "                else:\n",
    "                    x.append(func(tweet_index, tweet[i]))\n",
    "            X.append(x)\n",
    "            y_l.append(l_label[pos])\n",
    "            y_e.append(e_label[pos])\n",
    "            \n",
    "    return np.asarray(X), np.asarray(y_l), np.asarray(y_e)\n",
    "\n",
    "def word_to_tfidf(tweet_index, word):\n",
    "    global word_to_tfidf_index_dict, X_tfidf\n",
    "    \n",
    "    if word in word_to_tfidf_index_dict:\n",
    "        return X_tfidf[tweet_index, word_to_tfidf_index_dict[word]]\n",
    "    else:\n",
    "        return 0.0\n",
    "\n",
    "# promjena\n",
    "def print_dataset(X, y_l, y_e):\n",
    "    emoji_num = np.count_nonzero(y_l)\n",
    "    class_freq_ratio = emoji_num / (X.shape[0] * X.shape[1])\n",
    "    \n",
    "    print(\"after feature extraction:\")\n",
    "    print(f\"X shape {X.shape}\")\n",
    "    print(f\"y_l shape {y_l.shape}\")\n",
    "    print(f\"y_e shape {y_e.shape}\")\n",
    "    print(f\"some X values\\n{X[:5]}\")\n",
    "    print(f\"some y_l values\\n{y_l[:5]}\")\n",
    "    print(f\"non zero elements (1 in label) in y_l {emoji_num}\")\n",
    "    print(f\"class frequency ratio {class_freq_ratio}\\n\")\n",
    "    print(f\"some y_e values\\n{y_e[:5]}\")"
   ]
  },
  {
   "cell_type": "markdown",
   "metadata": {},
   "source": [
    "### Word2Vector Feature Extraction"
   ]
  },
  {
   "cell_type": "code",
   "execution_count": 48,
   "metadata": {
    "collapsed": true
   },
   "outputs": [],
   "source": [
    "from sklearn.feature_extraction.text import TfidfVectorizer\n",
    "from gensim.models import Word2Vec\n",
    "\n",
    "num_of_features = 6\n",
    "w2v_model_file_name = \"w2v_model\""
   ]
  },
  {
   "cell_type": "code",
   "execution_count": 49,
   "metadata": {
    "collapsed": true
   },
   "outputs": [],
   "source": [
    "w2v_model = Word2Vec(text_lines_split, min_count=1, size=num_of_features)\n",
    "w2v_model.save(w2v_model_file_name)"
   ]
  },
  {
   "cell_type": "code",
   "execution_count": 50,
   "metadata": {},
   "outputs": [
    {
     "name": "stdout",
     "output_type": "stream",
     "text": [
      "(6,)\n",
      "[ 2.972653  -1.3512479  4.148444   7.4149575  2.2700298  4.582564 ]\n"
     ]
    }
   ],
   "source": [
    "w2v_model = Word2Vec.load(w2v_model_file_name)\n",
    "\n",
    "example = w2v_model.wv[\"california\"]\n",
    "print(example.shape)\n",
    "print(example)"
   ]
  },
  {
   "cell_type": "code",
   "execution_count": 51,
   "metadata": {
    "collapsed": true
   },
   "outputs": [],
   "source": [
    "def w2v_features(tweets, loc_labels, emo_labels, k):\n",
    "    N = len(tweets)\n",
    "    X = []\n",
    "    y_l = []\n",
    "    y_e = []\n",
    "    \n",
    "    for tweet_index, (tweet, l_label, e_label) in enumerate(zip(tweets, loc_labels, emo_labels)):\n",
    "        for pos in range(len(tweet) + 1):\n",
    "            x = []\n",
    "            for i in range(pos - k, pos + k):\n",
    "                if i < 0 or i >= len(tweet):\n",
    "                    x.append(np.zeros(num_of_features))\n",
    "                else:\n",
    "                    x.append(w2v_model.wv[tweet[i]])\n",
    "            x = np.average(x, axis=0)\n",
    "            X.append(x)\n",
    "            y_l.append(l_label[pos])\n",
    "            y_e.append(e_label[pos])\n",
    "            \n",
    "    return np.asarray(X), np.asarray(y_l), np.asarray(y_e)"
   ]
  },
  {
   "cell_type": "code",
   "execution_count": 52,
   "metadata": {},
   "outputs": [
    {
     "name": "stderr",
     "output_type": "stream",
     "text": [
      "/home/marin/anaconda3/lib/python3.6/site-packages/sklearn/feature_extraction/text.py:1089: FutureWarning: Conversion of the second argument of issubdtype from `float` to `np.floating` is deprecated. In future, it will be treated as `np.float64 == np.dtype(float).type`.\n",
      "  if hasattr(X, 'dtype') and np.issubdtype(X.dtype, np.float):\n"
     ]
    },
    {
     "name": "stdout",
     "output_type": "stream",
     "text": [
      "X shape (100000, 95000)\n",
      "y_l shape (100000, 31)\n",
      "y_e shape (100000, 31)\n",
      "some tf-idf values\n",
      "  (0, 50292)\t0.4161419391955878\n",
      "  (0, 91420)\t0.4402275555538724\n",
      "  (0, 20437)\t0.7091913039760875\n",
      "  (0, 14685)\t0.36065673449735347\n",
      "\n",
      "after feature extraction:\n",
      "X shape (1346405, 12)\n",
      "y_l shape (1346405,)\n",
      "y_e shape (1346405,)\n",
      "some X values\n",
      "[[ 0.          0.          0.          0.41614194  0.          0.44022756\n",
      "   1.31879329 -0.68362592  0.9591155  -0.11707349 -0.00876852  2.159688  ]\n",
      " [ 0.          0.          0.41614194  0.          0.44022756  0.7091913\n",
      "   1.39896623 -0.73007096  0.9767785  -0.04547271 -0.00633871  2.21500153]\n",
      " [ 0.          0.41614194  0.          0.44022756  0.7091913   0.\n",
      "   1.75498541 -0.80632033  1.59922015 -0.03095887 -0.47036003  2.79820529]\n",
      " [ 0.41614194  0.          0.44022756  0.7091913   0.          0.36065673\n",
      "   2.25042748 -1.03152835  2.29062748  1.20486736 -0.09202174  3.56196594]\n",
      " [ 0.          0.44022756  0.7091913   0.          0.36065673  0.\n",
      "   2.3913765  -0.6136179   1.62925294  1.504575   -0.13503931  2.76327871]]\n",
      "some y_l values\n",
      "[0 1 0 0 0]\n",
      "non zero elements (1 in label) in y_l 102068\n",
      "class frequency ratio 0.006317316607311074\n",
      "\n",
      "some y_e values\n",
      "[0 3 0 0 0]\n"
     ]
    }
   ],
   "source": [
    "should_use_tfidf = False\n",
    "should_use_hybrid = True\n",
    "k = 3\n",
    "\n",
    "# promjena\n",
    "#X_tfidf, y_tfidf = neighbor_features(text_lines_split, loc_lines, k, word_to_tfidf)\n",
    "X_tfidf, y_loc_tfidf, y_emo_tfidf = tfidf_features(text_lines_split, loc_lines, emo_lines, k, word_to_tfidf)\n",
    "\n",
    "X_w2v, y_loc_w2v, y_emo_w2v = w2v_features(text_lines_split, loc_lines, emo_lines, k)\n",
    "X_hybrid = np.hstack((X_tfidf, X_w2v))\n",
    "\n",
    "if should_use_tfidf:\n",
    "    X, y_l, y_e = X_tfidf, y_loc_tfidf, y_emo_tfidf\n",
    "else:\n",
    "    X, y_l, y_e = X_w2v, y_loc_w2v, y_emo_w2v\n",
    "    \n",
    "if should_use_hybrid:\n",
    "    X = X_hybrid\n",
    "\n",
    "print_dataset(X, y_l, y_e)"
   ]
  },
  {
   "cell_type": "markdown",
   "metadata": {
    "hideCode": false,
    "hidePrompt": false
   },
   "source": [
    "### Build data sets\n",
    "Dataset is randomly split into train and test subsets. Ignored while using KFold."
   ]
  },
  {
   "cell_type": "code",
   "execution_count": 53,
   "metadata": {
    "collapsed": true,
    "hideCode": false,
    "hidePrompt": false
   },
   "outputs": [],
   "source": [
    "from sklearn.model_selection import train_test_split\n",
    "\n",
    "if not should_use_kfold:\n",
    "    X_train, X_test, y_loc_train, y_loc_test, y_emo_train, y_emo_test = train_test_split(X, y_l, y_e, test_size=0.2, random_state=42)\n",
    "\n",
    "    print(X_train.shape)\n",
    "    print(y_loc_train.shape)\n",
    "    print(y_emo_train.shape)\n",
    "    print(X_train[30:50])\n",
    "    print(y_loc_train[30:50])\n",
    "    print(y_emo_train[30:50])\n",
    "    "
   ]
  },
  {
   "cell_type": "markdown",
   "metadata": {
    "hideCode": false,
    "hidePrompt": false
   },
   "source": [
    "### Baselines\n",
    "\n",
    "Make sure to check should_train flags when training/testing."
   ]
  },
  {
   "cell_type": "code",
   "execution_count": 54,
   "metadata": {
    "collapsed": true,
    "hideCode": false,
    "hidePrompt": false
   },
   "outputs": [],
   "source": [
    "should_use_kfold = True\n",
    "\n",
    "should_train_global = False\n",
    "should_train_linear_svm = True\n",
    "should_train_bagging_svm = False\n",
    "should_train_random_forest = True\n",
    "should_train_adaboost = True\n",
    "\n",
    "linear_svm_model_file_name = \"linear_svm.pkl\"\n",
    "bagging_model_file_name = \"bagging_svm.pkl\"\n",
    "random_forest_file_name = \"random_forest.pkl\"\n",
    "adaboost_file_name = \"adaboost.pkl\""
   ]
  },
  {
   "cell_type": "code",
   "execution_count": 62,
   "metadata": {
    "collapsed": true,
    "hideCode": false,
    "hidePrompt": false
   },
   "outputs": [],
   "source": [
    "from sklearn.externals import joblib\n",
    "from sklearn.metrics import accuracy_score\n",
    "from sklearn.metrics import precision_score\n",
    "from sklearn.metrics import recall_score\n",
    "from sklearn.metrics import f1_score\n",
    "from sklearn.model_selection import cross_val_score, KFold\n",
    "\n",
    "np.set_printoptions(threshold=np.inf)\n",
    "\n",
    "kf = KFold(n_splits=5, shuffle=True)\n",
    "\n",
    "def calc_scores(y_pred, y_test, multi_class):\n",
    "    result = []\n",
    "    result.append(accuracy_score(y_pred, y_test))\n",
    "    if multi_class:\n",
    "        average='weighted'\n",
    "        #print(precision_score(y_pred[:200], y_test[:200], average=average))\n",
    "        #print(recall_score(y_pred[:200], y_test[:200], average=average))\n",
    "        #print(f1_score(y_pred[:200], y_test[:200], average=average))\n",
    "        result.append(precision_score(y_pred, y_test, average=average))\n",
    "        result.append(recall_score(y_pred, y_test, average=average))\n",
    "        result.append(f1_score(y_pred, y_test, average=average))\n",
    "    else:\n",
    "        result.append(precision_score(y_pred, y_test))\n",
    "        result.append(recall_score(y_pred, y_test))\n",
    "        result.append(f1_score(y_pred, y_test))\n",
    "    result.append(np.count_nonzero(y_pred) / y_pred.shape[0])\n",
    "    return result\n",
    "\n",
    "def print_scores(scores):\n",
    "    print(f\"Accuracy: {scores[0]}\")\n",
    "    print(f\"Precision: {scores[1]}\")\n",
    "    print(f\"Recall: {scores[2]}\")\n",
    "    print(f\"F1: {scores[3]}\")\n",
    "    print(f\"ratio of positive/negative predictions {scores[4]}\")\n",
    "\n",
    "def kfold_score(clf, X, y, multi_class):\n",
    "    fold_scores = []\n",
    "    for train_index, test_index in kf.split(X):\n",
    "        X_train_kf, X_test_kf = X[train_index], X[test_index]\n",
    "        y_train_kf, y_test_kf = y[train_index], y[test_index]\n",
    "        clf.fit(X_train_kf, y_train_kf)\n",
    "        y_pred = clf.predict(X_test_kf)\n",
    "        fold_scores.append(calc_scores(y_pred, y_test_kf, multi_class))\n",
    "        \n",
    "    print(f\"{y_test_kf[:200]}\")\n",
    "    print(f\"{y_pred[:200]}\")\n",
    "    \n",
    "    fold_scores = np.average(np.asarray(fold_scores), axis=0)\n",
    "    print_scores(fold_scores)\n",
    "\n",
    "def train_and_save_model(model, X_train, y_train, model_file_name):\n",
    "    model.fit(X_train, y_train)\n",
    "    joblib.dump(model, model_file_name)\n",
    "    \n",
    "def load_and_test_model(model_file_name, X_test, y_test):\n",
    "    clf_loaded = joblib.load(model_file_name)\n",
    "    y_pred = clf_loaded.predict(X_test)\n",
    "    print_scores(calc_scores(y_pred, y_test))\n",
    "    \n",
    "def do_test(clf, X, y, clf_file_name, flag, multi_class=False):\n",
    "    if should_use_kfold:\n",
    "        kfold_score(clf, X, y, multi_class)\n",
    "    else:\n",
    "        if should_train_global and flag:\n",
    "            train_and_save_model(clf, X_train, y_train, clf_file_name)\n",
    "        load_and_test_model(clf_file_name, X_test, y_test)  "
   ]
  },
  {
   "cell_type": "markdown",
   "metadata": {
    "hideCode": false,
    "hidePrompt": false
   },
   "source": [
    "### Linear SVM Baseline\n",
    "\n",
    "Linear SVM is based on the liblinear library and is faster on large datasets. Not using dual optimization problem makes the train extremely fast. It is the fastest so both feature extraction methods are used for comparison."
   ]
  },
  {
   "cell_type": "code",
   "execution_count": null,
   "metadata": {
    "hideCode": false,
    "hidePrompt": false
   },
   "outputs": [],
   "source": [
    "from sklearn.svm import LinearSVC\n",
    "\n",
    "svm_clf = LinearSVC(class_weight=\"balanced\", dual=False)\n",
    "\n",
    "print(\"Emoji locations:\\n\")\n",
    "\n",
    "print(\"TF-IDF results:\")\n",
    "do_test(svm_clf, X_tfidf, y_loc_tfidf, linear_svm_model_file_name, should_train_linear_svm)\n",
    "print(\"\\nword2vec results:\")\n",
    "do_test(svm_clf, X_w2v, y_loc_w2v, linear_svm_model_file_name, should_train_linear_svm)\n",
    "print(\"\\nhybrid results:\")\n",
    "do_test(svm_clf, X_hybrid, y_loc_w2v, linear_svm_model_file_name, should_train_linear_svm)"
   ]
  },
  {
   "cell_type": "code",
   "execution_count": null,
   "metadata": {},
   "outputs": [
    {
     "name": "stdout",
     "output_type": "stream",
     "text": [
      "Emoji types:\n",
      "\n",
      "TF-IDF results:\n"
     ]
    },
    {
     "name": "stderr",
     "output_type": "stream",
     "text": [
      "/home/marin/anaconda3/lib/python3.6/site-packages/sklearn/metrics/classification.py:1137: UndefinedMetricWarning: Recall is ill-defined and being set to 0.0 in labels with no true samples.\n",
      "  'recall', 'true', average, warn_for)\n",
      "/home/marin/anaconda3/lib/python3.6/site-packages/sklearn/metrics/classification.py:1137: UndefinedMetricWarning: F-score is ill-defined and being set to 0.0 in labels with no true samples.\n",
      "  'recall', 'true', average, warn_for)\n"
     ]
    }
   ],
   "source": [
    "print(\"Emoji types:\\n\")\n",
    "\n",
    "print(\"TF-IDF results:\")\n",
    "do_test(svm_clf, X_tfidf, y_emo_tfidf, linear_svm_model_file_name, should_train_linear_svm, True)\n",
    "print(\"\\nword2vec results:\")\n",
    "do_test(svm_clf, X_w2v, y_emo_w2v, linear_svm_model_file_name, should_train_linear_svm, True)\n",
    "print(\"\\nhybrid results:\")\n",
    "do_test(svm_clf, X_hybrid, y_emo_w2v, linear_svm_model_file_name, should_train_linear_svm, True)"
   ]
  },
  {
   "cell_type": "markdown",
   "metadata": {
    "hideCode": false,
    "hidePrompt": false
   },
   "source": [
    "### Bagging SVM\n",
    "\n",
    "Warning! SVM is based on the libsvm library and it scales poorly with large datasets. That is why an ensemble (bagging) is used. Each classifier is trained on a portion of the data which greatly reduces training times and gives similar (if not better) results. Using 10 estimators it still takes a few hours to train. Results are just a bit better than a single linear SVM."
   ]
  },
  {
   "cell_type": "code",
   "execution_count": null,
   "metadata": {
    "collapsed": true,
    "hideCode": false,
    "hidePrompt": false
   },
   "outputs": [],
   "source": [
    "from sklearn.svm import SVC\n",
    "from sklearn.ensemble import BaggingClassifier\n",
    "\n",
    "n_estimators = 10\n",
    "bagging_svm_clf = BaggingClassifier(SVC(kernel='linear', class_weight='balanced'), max_samples=1.0 / n_estimators,\n",
    "                                        n_estimators=n_estimators, bootstrap=False)\n",
    "\n",
    "\n",
    "print(\"Emoji locations:\\n\")\n",
    "\n",
    "do_test(bagging_svm_clf, X, y_l, bagging_model_file_name, should_train_bagging_svm)  "
   ]
  },
  {
   "cell_type": "code",
   "execution_count": null,
   "metadata": {
    "collapsed": true
   },
   "outputs": [],
   "source": [
    "from sklearn.svm import SVC\n",
    "from sklearn.ensemble import BaggingClassifier\n",
    "\n",
    "n_estimators = 10\n",
    "bagging_svm_clf = BaggingClassifier(SVC(kernel='linear', class_weight='balanced'), max_samples=1.0 / n_estimators,\n",
    "                                        n_estimators=n_estimators, bootstrap=False)\n",
    "\n",
    "print(\"Emoji types:\\n\")\n",
    "\n",
    "do_test(bagging_svm_clf, X, y_e, bagging_model_file_name, should_train_bagging_svm, True)"
   ]
  },
  {
   "cell_type": "markdown",
   "metadata": {
    "hideCode": false,
    "hidePrompt": false
   },
   "source": [
    "### Random Forest Baseline\n",
    "\n",
    "Random forests are pretty fast, but the results are generally worse (F1). High accuracy and recall with low precision."
   ]
  },
  {
   "cell_type": "code",
   "execution_count": 37,
   "metadata": {
    "hideCode": false,
    "hidePrompt": false
   },
   "outputs": [
    {
     "name": "stdout",
     "output_type": "stream",
     "text": [
      "Emoji locations:\n",
      "\n",
      "Accuracy: 0.9325411001890218\n",
      "Precision: 0.22312907029411772\n",
      "Recall: 0.6638448028335906\n",
      "F1: 0.3339893263151609\n",
      "ratio of positive/negative predictions 0.02548044607677482\n"
     ]
    }
   ],
   "source": [
    "from sklearn.ensemble import RandomForestClassifier\n",
    "\n",
    "random_forest_clf = RandomForestClassifier(min_samples_leaf=2)\n",
    "\n",
    "print(\"Emoji locations:\\n\")\n",
    "\n",
    "do_test(random_forest_clf, X, y_l, random_forest_file_name, should_train_random_forest)"
   ]
  },
  {
   "cell_type": "code",
   "execution_count": 38,
   "metadata": {},
   "outputs": [
    {
     "name": "stdout",
     "output_type": "stream",
     "text": [
      "Emoji types:\n",
      "\n",
      "Accuracy: 0.9247061619646392\n",
      "Precision: 0.9247061619646392\n",
      "Recall: 0.9247061619646392\n",
      "F1: 0.9247061619646392\n",
      "ratio of positive/negative predictions 0.9954924409817254\n"
     ]
    }
   ],
   "source": [
    "from sklearn.ensemble import RandomForestClassifier\n",
    "\n",
    "random_forest_clf = RandomForestClassifier(min_samples_leaf=2)\n",
    "\n",
    "print(\"Emoji types:\\n\")\n",
    "\n",
    "do_test(random_forest_clf, X, y_e, random_forest_file_name, should_train_random_forest, True)"
   ]
  },
  {
   "cell_type": "markdown",
   "metadata": {
    "hideCode": false,
    "hidePrompt": false
   },
   "source": [
    "### AdaBoost Baseline\n",
    "\n"
   ]
  },
  {
   "cell_type": "code",
   "execution_count": 21,
   "metadata": {
    "hideCode": false,
    "hidePrompt": false
   },
   "outputs": [
    {
     "name": "stdout",
     "output_type": "stream",
     "text": [
      "Emoji locations:\n",
      "\n",
      "Accuracy: 0.7456389422202087\n",
      "Precision: 0.7587678978137375\n",
      "Recall: 0.19594506116349328\n",
      "F1: 0.31144955027282484\n",
      "ratio of positive/negative predictions 0.2935929382318099\n"
     ]
    }
   ],
   "source": [
    "from sklearn.ensemble import AdaBoostClassifier\n",
    "from sklearn.tree import DecisionTreeClassifier\n",
    "\n",
    "adaboost_clf = AdaBoostClassifier(DecisionTreeClassifier(max_depth=2, class_weight=\"balanced\"), n_estimators=100)\n",
    "\n",
    "print(\"Emoji locations:\\n\")\n",
    "\n",
    "do_test(adaboost_clf, X, y_l, adaboost_file_name, should_train_adaboost)"
   ]
  },
  {
   "cell_type": "code",
   "execution_count": 39,
   "metadata": {},
   "outputs": [
    {
     "name": "stdout",
     "output_type": "stream",
     "text": [
      "Emoji types:\n",
      "\n"
     ]
    },
    {
     "ename": "KeyboardInterrupt",
     "evalue": "",
     "traceback": [
      "\u001b[0;31m---------------------------------------------------------------------------\u001b[0m",
      "\u001b[0;31mKeyboardInterrupt\u001b[0m                         Traceback (most recent call last)",
      "\u001b[0;32m<ipython-input-39-ef0d9afd6357>\u001b[0m in \u001b[0;36m<module>\u001b[0;34m()\u001b[0m\n\u001b[1;32m      6\u001b[0m \u001b[0mprint\u001b[0m\u001b[0;34m(\u001b[0m\u001b[0;34m\"Emoji types:\\n\"\u001b[0m\u001b[0;34m)\u001b[0m\u001b[0;34m\u001b[0m\u001b[0m\n\u001b[1;32m      7\u001b[0m \u001b[0;34m\u001b[0m\u001b[0m\n\u001b[0;32m----> 8\u001b[0;31m \u001b[0mdo_test\u001b[0m\u001b[0;34m(\u001b[0m\u001b[0madaboost_clf\u001b[0m\u001b[0;34m,\u001b[0m \u001b[0mX\u001b[0m\u001b[0;34m,\u001b[0m \u001b[0my_e\u001b[0m\u001b[0;34m,\u001b[0m \u001b[0madaboost_file_name\u001b[0m\u001b[0;34m,\u001b[0m \u001b[0mshould_train_adaboost\u001b[0m\u001b[0;34m,\u001b[0m \u001b[0;32mTrue\u001b[0m\u001b[0;34m)\u001b[0m\u001b[0;34m\u001b[0m\u001b[0m\n\u001b[0m",
      "\u001b[0;32m<ipython-input-36-940d1d2c181a>\u001b[0m in \u001b[0;36mdo_test\u001b[0;34m(clf, X, y, clf_file_name, flag, multi_class)\u001b[0m\n\u001b[1;32m     61\u001b[0m \u001b[0;32mdef\u001b[0m \u001b[0mdo_test\u001b[0m\u001b[0;34m(\u001b[0m\u001b[0mclf\u001b[0m\u001b[0;34m,\u001b[0m \u001b[0mX\u001b[0m\u001b[0;34m,\u001b[0m \u001b[0my\u001b[0m\u001b[0;34m,\u001b[0m \u001b[0mclf_file_name\u001b[0m\u001b[0;34m,\u001b[0m \u001b[0mflag\u001b[0m\u001b[0;34m,\u001b[0m \u001b[0mmulti_class\u001b[0m\u001b[0;34m=\u001b[0m\u001b[0;32mFalse\u001b[0m\u001b[0;34m)\u001b[0m\u001b[0;34m:\u001b[0m\u001b[0;34m\u001b[0m\u001b[0m\n\u001b[1;32m     62\u001b[0m     \u001b[0;32mif\u001b[0m \u001b[0mshould_use_kfold\u001b[0m\u001b[0;34m:\u001b[0m\u001b[0;34m\u001b[0m\u001b[0m\n\u001b[0;32m---> 63\u001b[0;31m         \u001b[0mkfold_score\u001b[0m\u001b[0;34m(\u001b[0m\u001b[0mclf\u001b[0m\u001b[0;34m,\u001b[0m \u001b[0mX\u001b[0m\u001b[0;34m,\u001b[0m \u001b[0my\u001b[0m\u001b[0;34m,\u001b[0m \u001b[0mmulti_class\u001b[0m\u001b[0;34m)\u001b[0m\u001b[0;34m\u001b[0m\u001b[0m\n\u001b[0m\u001b[1;32m     64\u001b[0m     \u001b[0;32melse\u001b[0m\u001b[0;34m:\u001b[0m\u001b[0;34m\u001b[0m\u001b[0m\n\u001b[1;32m     65\u001b[0m         \u001b[0;32mif\u001b[0m \u001b[0mshould_train_global\u001b[0m \u001b[0;32mand\u001b[0m \u001b[0mflag\u001b[0m\u001b[0;34m:\u001b[0m\u001b[0;34m\u001b[0m\u001b[0m\n",
      "\u001b[0;32m<ipython-input-36-940d1d2c181a>\u001b[0m in \u001b[0;36mkfold_score\u001b[0;34m(clf, X, y, multi_class)\u001b[0m\n\u001b[1;32m     39\u001b[0m         \u001b[0mX_train_kf\u001b[0m\u001b[0;34m,\u001b[0m \u001b[0mX_test_kf\u001b[0m \u001b[0;34m=\u001b[0m \u001b[0mX\u001b[0m\u001b[0;34m[\u001b[0m\u001b[0mtrain_index\u001b[0m\u001b[0;34m]\u001b[0m\u001b[0;34m,\u001b[0m \u001b[0mX\u001b[0m\u001b[0;34m[\u001b[0m\u001b[0mtest_index\u001b[0m\u001b[0;34m]\u001b[0m\u001b[0;34m\u001b[0m\u001b[0m\n\u001b[1;32m     40\u001b[0m         \u001b[0my_train_kf\u001b[0m\u001b[0;34m,\u001b[0m \u001b[0my_test_kf\u001b[0m \u001b[0;34m=\u001b[0m \u001b[0my\u001b[0m\u001b[0;34m[\u001b[0m\u001b[0mtrain_index\u001b[0m\u001b[0;34m]\u001b[0m\u001b[0;34m,\u001b[0m \u001b[0my\u001b[0m\u001b[0;34m[\u001b[0m\u001b[0mtest_index\u001b[0m\u001b[0;34m]\u001b[0m\u001b[0;34m\u001b[0m\u001b[0m\n\u001b[0;32m---> 41\u001b[0;31m         \u001b[0mclf\u001b[0m\u001b[0;34m.\u001b[0m\u001b[0mfit\u001b[0m\u001b[0;34m(\u001b[0m\u001b[0mX_train_kf\u001b[0m\u001b[0;34m,\u001b[0m \u001b[0my_train_kf\u001b[0m\u001b[0;34m)\u001b[0m\u001b[0;34m\u001b[0m\u001b[0m\n\u001b[0m\u001b[1;32m     42\u001b[0m         \u001b[0my_pred\u001b[0m \u001b[0;34m=\u001b[0m \u001b[0mclf\u001b[0m\u001b[0;34m.\u001b[0m\u001b[0mpredict\u001b[0m\u001b[0;34m(\u001b[0m\u001b[0mX_test_kf\u001b[0m\u001b[0;34m)\u001b[0m\u001b[0;34m\u001b[0m\u001b[0m\n\u001b[1;32m     43\u001b[0m         \"\"\"print(str(y_pred))\n",
      "\u001b[0;32m~/anaconda3/lib/python3.6/site-packages/sklearn/ensemble/weight_boosting.py\u001b[0m in \u001b[0;36mfit\u001b[0;34m(self, X, y, sample_weight)\u001b[0m\n\u001b[1;32m    411\u001b[0m \u001b[0;34m\u001b[0m\u001b[0m\n\u001b[1;32m    412\u001b[0m         \u001b[0;31m# Fit\u001b[0m\u001b[0;34m\u001b[0m\u001b[0;34m\u001b[0m\u001b[0m\n\u001b[0;32m--> 413\u001b[0;31m         \u001b[0;32mreturn\u001b[0m \u001b[0msuper\u001b[0m\u001b[0;34m(\u001b[0m\u001b[0mAdaBoostClassifier\u001b[0m\u001b[0;34m,\u001b[0m \u001b[0mself\u001b[0m\u001b[0;34m)\u001b[0m\u001b[0;34m.\u001b[0m\u001b[0mfit\u001b[0m\u001b[0;34m(\u001b[0m\u001b[0mX\u001b[0m\u001b[0;34m,\u001b[0m \u001b[0my\u001b[0m\u001b[0;34m,\u001b[0m \u001b[0msample_weight\u001b[0m\u001b[0;34m)\u001b[0m\u001b[0;34m\u001b[0m\u001b[0m\n\u001b[0m\u001b[1;32m    414\u001b[0m \u001b[0;34m\u001b[0m\u001b[0m\n\u001b[1;32m    415\u001b[0m     \u001b[0;32mdef\u001b[0m \u001b[0m_validate_estimator\u001b[0m\u001b[0;34m(\u001b[0m\u001b[0mself\u001b[0m\u001b[0;34m)\u001b[0m\u001b[0;34m:\u001b[0m\u001b[0;34m\u001b[0m\u001b[0m\n",
      "\u001b[0;32m~/anaconda3/lib/python3.6/site-packages/sklearn/ensemble/weight_boosting.py\u001b[0m in \u001b[0;36mfit\u001b[0;34m(self, X, y, sample_weight)\u001b[0m\n\u001b[1;32m    143\u001b[0m                 \u001b[0mX\u001b[0m\u001b[0;34m,\u001b[0m \u001b[0my\u001b[0m\u001b[0;34m,\u001b[0m\u001b[0;34m\u001b[0m\u001b[0m\n\u001b[1;32m    144\u001b[0m                 \u001b[0msample_weight\u001b[0m\u001b[0;34m,\u001b[0m\u001b[0;34m\u001b[0m\u001b[0m\n\u001b[0;32m--> 145\u001b[0;31m                 random_state)\n\u001b[0m\u001b[1;32m    146\u001b[0m \u001b[0;34m\u001b[0m\u001b[0m\n\u001b[1;32m    147\u001b[0m             \u001b[0;31m# Early termination\u001b[0m\u001b[0;34m\u001b[0m\u001b[0;34m\u001b[0m\u001b[0m\n",
      "\u001b[0;32m~/anaconda3/lib/python3.6/site-packages/sklearn/ensemble/weight_boosting.py\u001b[0m in \u001b[0;36m_boost\u001b[0;34m(self, iboost, X, y, sample_weight, random_state)\u001b[0m\n\u001b[1;32m    471\u001b[0m         \"\"\"\n\u001b[1;32m    472\u001b[0m         \u001b[0;32mif\u001b[0m \u001b[0mself\u001b[0m\u001b[0;34m.\u001b[0m\u001b[0malgorithm\u001b[0m \u001b[0;34m==\u001b[0m \u001b[0;34m'SAMME.R'\u001b[0m\u001b[0;34m:\u001b[0m\u001b[0;34m\u001b[0m\u001b[0m\n\u001b[0;32m--> 473\u001b[0;31m             \u001b[0;32mreturn\u001b[0m \u001b[0mself\u001b[0m\u001b[0;34m.\u001b[0m\u001b[0m_boost_real\u001b[0m\u001b[0;34m(\u001b[0m\u001b[0miboost\u001b[0m\u001b[0;34m,\u001b[0m \u001b[0mX\u001b[0m\u001b[0;34m,\u001b[0m \u001b[0my\u001b[0m\u001b[0;34m,\u001b[0m \u001b[0msample_weight\u001b[0m\u001b[0;34m,\u001b[0m \u001b[0mrandom_state\u001b[0m\u001b[0;34m)\u001b[0m\u001b[0;34m\u001b[0m\u001b[0m\n\u001b[0m\u001b[1;32m    474\u001b[0m \u001b[0;34m\u001b[0m\u001b[0m\n\u001b[1;32m    475\u001b[0m         \u001b[0;32melse\u001b[0m\u001b[0;34m:\u001b[0m  \u001b[0;31m# elif self.algorithm == \"SAMME\":\u001b[0m\u001b[0;34m\u001b[0m\u001b[0m\n",
      "\u001b[0;32m~/anaconda3/lib/python3.6/site-packages/sklearn/ensemble/weight_boosting.py\u001b[0m in \u001b[0;36m_boost_real\u001b[0;34m(self, iboost, X, y, sample_weight, random_state)\u001b[0m\n\u001b[1;32m    481\u001b[0m         \u001b[0mestimator\u001b[0m \u001b[0;34m=\u001b[0m \u001b[0mself\u001b[0m\u001b[0;34m.\u001b[0m\u001b[0m_make_estimator\u001b[0m\u001b[0;34m(\u001b[0m\u001b[0mrandom_state\u001b[0m\u001b[0;34m=\u001b[0m\u001b[0mrandom_state\u001b[0m\u001b[0;34m)\u001b[0m\u001b[0;34m\u001b[0m\u001b[0m\n\u001b[1;32m    482\u001b[0m \u001b[0;34m\u001b[0m\u001b[0m\n\u001b[0;32m--> 483\u001b[0;31m         \u001b[0mestimator\u001b[0m\u001b[0;34m.\u001b[0m\u001b[0mfit\u001b[0m\u001b[0;34m(\u001b[0m\u001b[0mX\u001b[0m\u001b[0;34m,\u001b[0m \u001b[0my\u001b[0m\u001b[0;34m,\u001b[0m \u001b[0msample_weight\u001b[0m\u001b[0;34m=\u001b[0m\u001b[0msample_weight\u001b[0m\u001b[0;34m)\u001b[0m\u001b[0;34m\u001b[0m\u001b[0m\n\u001b[0m\u001b[1;32m    484\u001b[0m \u001b[0;34m\u001b[0m\u001b[0m\n\u001b[1;32m    485\u001b[0m         \u001b[0my_predict_proba\u001b[0m \u001b[0;34m=\u001b[0m \u001b[0mestimator\u001b[0m\u001b[0;34m.\u001b[0m\u001b[0mpredict_proba\u001b[0m\u001b[0;34m(\u001b[0m\u001b[0mX\u001b[0m\u001b[0;34m)\u001b[0m\u001b[0;34m\u001b[0m\u001b[0m\n",
      "\u001b[0;32m~/anaconda3/lib/python3.6/site-packages/sklearn/tree/tree.py\u001b[0m in \u001b[0;36mfit\u001b[0;34m(self, X, y, sample_weight, check_input, X_idx_sorted)\u001b[0m\n\u001b[1;32m    788\u001b[0m             \u001b[0msample_weight\u001b[0m\u001b[0;34m=\u001b[0m\u001b[0msample_weight\u001b[0m\u001b[0;34m,\u001b[0m\u001b[0;34m\u001b[0m\u001b[0m\n\u001b[1;32m    789\u001b[0m             \u001b[0mcheck_input\u001b[0m\u001b[0;34m=\u001b[0m\u001b[0mcheck_input\u001b[0m\u001b[0;34m,\u001b[0m\u001b[0;34m\u001b[0m\u001b[0m\n\u001b[0;32m--> 790\u001b[0;31m             X_idx_sorted=X_idx_sorted)\n\u001b[0m\u001b[1;32m    791\u001b[0m         \u001b[0;32mreturn\u001b[0m \u001b[0mself\u001b[0m\u001b[0;34m\u001b[0m\u001b[0m\n\u001b[1;32m    792\u001b[0m \u001b[0;34m\u001b[0m\u001b[0m\n",
      "\u001b[0;32m~/anaconda3/lib/python3.6/site-packages/sklearn/tree/tree.py\u001b[0m in \u001b[0;36mfit\u001b[0;34m(self, X, y, sample_weight, check_input, X_idx_sorted)\u001b[0m\n\u001b[1;32m    360\u001b[0m                                            min_impurity_split)\n\u001b[1;32m    361\u001b[0m \u001b[0;34m\u001b[0m\u001b[0m\n\u001b[0;32m--> 362\u001b[0;31m         \u001b[0mbuilder\u001b[0m\u001b[0;34m.\u001b[0m\u001b[0mbuild\u001b[0m\u001b[0;34m(\u001b[0m\u001b[0mself\u001b[0m\u001b[0;34m.\u001b[0m\u001b[0mtree_\u001b[0m\u001b[0;34m,\u001b[0m \u001b[0mX\u001b[0m\u001b[0;34m,\u001b[0m \u001b[0my\u001b[0m\u001b[0;34m,\u001b[0m \u001b[0msample_weight\u001b[0m\u001b[0;34m,\u001b[0m \u001b[0mX_idx_sorted\u001b[0m\u001b[0;34m)\u001b[0m\u001b[0;34m\u001b[0m\u001b[0m\n\u001b[0m\u001b[1;32m    363\u001b[0m \u001b[0;34m\u001b[0m\u001b[0m\n\u001b[1;32m    364\u001b[0m         \u001b[0;32mif\u001b[0m \u001b[0mself\u001b[0m\u001b[0;34m.\u001b[0m\u001b[0mn_outputs_\u001b[0m \u001b[0;34m==\u001b[0m \u001b[0;36m1\u001b[0m\u001b[0;34m:\u001b[0m\u001b[0;34m\u001b[0m\u001b[0m\n",
      "\u001b[0;31mKeyboardInterrupt\u001b[0m: "
     ],
     "output_type": "error"
    }
   ],
   "source": [
    "from sklearn.ensemble import AdaBoostClassifier\n",
    "from sklearn.tree import DecisionTreeClassifier\n",
    "\n",
    "adaboost_clf = AdaBoostClassifier(DecisionTreeClassifier(max_depth=2, class_weight=\"balanced\"), n_estimators=100)\n",
    "\n",
    "print(\"Emoji types:\\n\")\n",
    "\n",
    "do_test(adaboost_clf, X, y_e, adaboost_file_name, should_train_adaboost, True)"
   ]
  },
  {
   "cell_type": "markdown",
   "metadata": {},
   "source": [
    "### BLSTM for emoji location prediction\n",
    "\n",
    "Bidirectional long short-term memory recurrent network implementation using the Keras framework. Emoji location prediction is treated as a binary classification problem. INPUT_SIZE determines how much of the tweets are used for training. The model uses an embedding layer and its size is a hyperparameter. A single bidirectional layer is used which actually consists of two LSTM layers."
   ]
  },
  {
   "cell_type": "code",
   "execution_count": 117,
   "metadata": {
    "collapsed": true
   },
   "outputs": [],
   "source": [
    "from pandas import DataFrame\n",
    "\n",
    "N_TIMESTEPS = MAX_WORDS_PER_TWEET\n",
    "N_CLASSES = 2\n",
    "INPUT_SIZE = 100000\n",
    "EMBEDDING_SIZE = 10\n",
    "HIDDEN_SIZE = 20\n",
    "PARAMETER_STR = str(N_CLASSES) + \"_\" + str(INPUT_SIZE) + \"_\" + str(EMBEDDING_SIZE) + \"_\" + str(HIDDEN_SIZE)\n",
    "\n",
    "dummy_text = [\"\"\" Jack and Jill went up the hill\\n\n",
    "        To fetch a pail of water\\n\n",
    "        Jack fell down and broke his crown\\n\n",
    "        And Jill came tumbling after\\n \"\"\"]"
   ]
  },
  {
   "cell_type": "markdown",
   "metadata": {},
   "source": [
    "### Data preparation\n",
    "\n",
    "Words are converted to integer ids using a tokenizer. Each unique word has its own unique integer value. Tweets are padded with zeros to a set length. Padding is required by Keras. Since most of the labels are zero (emojis are present after every 15th word), class weights are calculated. Without class weights the model behaves like a majority class classifier which is of no use here."
   ]
  },
  {
   "cell_type": "code",
   "execution_count": 114,
   "metadata": {},
   "outputs": [
    {
     "name": "stdout",
     "output_type": "stream",
     "text": [
      "encoded:\n",
      "[[178, 212, 4853, 65], [264, 63, 6, 60, 1939, 15, 1, 630, 2897, 12363], [1769, 43, 7, 1831, 6340, 213, 358], [29310, 3338, 1568, 6757, 70, 3338, 1361, 25, 1216, 7895, 2, 29311, 144], [40, 446, 643, 9518, 29312, 481, 19204, 2635, 1117]]\n",
      "\n",
      "Vocabulary Size: 101805\n",
      "input shape: (100000, 30)\n",
      "BLSTM input example:\n",
      "[[  178   212  4853    65     0     0     0     0     0     0     0     0\n",
      "      0     0     0     0     0     0     0     0     0     0     0     0\n",
      "      0     0     0     0     0     0]\n",
      " [  264    63     6    60  1939    15     1   630  2897 12363     0     0\n",
      "      0     0     0     0     0     0     0     0     0     0     0     0\n",
      "      0     0     0     0     0     0]\n",
      " [ 1769    43     7  1831  6340   213   358     0     0     0     0     0\n",
      "      0     0     0     0     0     0     0     0     0     0     0     0\n",
      "      0     0     0     0     0     0]\n",
      " [29310  3338  1568  6757    70  3338  1361    25  1216  7895     2 29311\n",
      "    144     0     0     0     0     0     0     0     0     0     0     0\n",
      "      0     0     0     0     0     0]\n",
      " [   40   446   643  9518 29312   481 19204  2635  1117     0     0     0\n",
      "      0     0     0     0     0     0     0     0     0     0     0     0\n",
      "      0     0     0     0     0     0]]\n",
      "\n",
      "labels shape: (100000, 30, 2)\n",
      "class weight dict:\n",
      "{0: 0.5173816075667405, 1: 14.883019466989463}\n",
      "\n",
      "sample_weights shape: (100000, 30)\n",
      "sample_weights examples:\n",
      "[[14.88301947  0.51738161  0.51738161  0.51738161  0.51738161  0.51738161\n",
      "   0.51738161  0.51738161  0.51738161  0.51738161  0.51738161  0.51738161\n",
      "   0.51738161  0.51738161  0.51738161  0.51738161  0.51738161  0.51738161\n",
      "   0.51738161  0.51738161  0.51738161  0.51738161  0.51738161  0.51738161\n",
      "   0.51738161  0.51738161  0.51738161  0.51738161  0.51738161  0.51738161]\n",
      " [ 0.51738161  0.51738161  0.51738161  0.51738161  0.51738161  0.51738161\n",
      "   0.51738161 14.88301947  0.51738161  0.51738161  0.51738161  0.51738161\n",
      "   0.51738161  0.51738161  0.51738161  0.51738161  0.51738161  0.51738161\n",
      "   0.51738161  0.51738161  0.51738161  0.51738161  0.51738161  0.51738161\n",
      "   0.51738161  0.51738161  0.51738161  0.51738161  0.51738161  0.51738161]\n",
      " [ 0.51738161  0.51738161  0.51738161 14.88301947  0.51738161  0.51738161\n",
      "   0.51738161  0.51738161  0.51738161  0.51738161  0.51738161  0.51738161\n",
      "   0.51738161  0.51738161  0.51738161  0.51738161  0.51738161  0.51738161\n",
      "   0.51738161  0.51738161  0.51738161  0.51738161  0.51738161  0.51738161\n",
      "   0.51738161  0.51738161  0.51738161  0.51738161  0.51738161  0.51738161]\n",
      " [ 0.51738161  0.51738161  0.51738161  0.51738161  0.51738161  0.51738161\n",
      "   0.51738161  0.51738161  0.51738161  0.51738161  0.51738161 14.88301947\n",
      "   0.51738161  0.51738161  0.51738161  0.51738161  0.51738161  0.51738161\n",
      "   0.51738161  0.51738161  0.51738161  0.51738161  0.51738161  0.51738161\n",
      "   0.51738161  0.51738161  0.51738161  0.51738161  0.51738161  0.51738161]\n",
      " [ 0.51738161  0.51738161 14.88301947  0.51738161  0.51738161  0.51738161\n",
      "   0.51738161  0.51738161  0.51738161  0.51738161  0.51738161  0.51738161\n",
      "   0.51738161  0.51738161  0.51738161  0.51738161  0.51738161  0.51738161\n",
      "   0.51738161  0.51738161  0.51738161  0.51738161  0.51738161  0.51738161\n",
      "   0.51738161  0.51738161  0.51738161  0.51738161  0.51738161  0.51738161]]\n",
      "\n"
     ]
    }
   ],
   "source": [
    "from keras.preprocessing.text import Tokenizer\n",
    "from keras.preprocessing.sequence import pad_sequences\n",
    "from keras.utils import to_categorical\n",
    "from sklearn.utils.class_weight import compute_sample_weight\n",
    "\n",
    "# integer encode text\n",
    "X_input = text_lines[:INPUT_SIZE]\n",
    "tokenizer = Tokenizer()\n",
    "tokenizer.fit_on_texts(X_input)\n",
    "txt_to_seq = tokenizer.texts_to_sequences(X_input)\n",
    "print(f\"encoded:\\n{txt_to_seq[0:5]}\\n\")\n",
    "# determine the vocabulary size\n",
    "vocab_size = len(tokenizer.word_index) + 1\n",
    "print(f\"Vocabulary Size: {vocab_size}\")\n",
    "\n",
    "# pad input sequences\n",
    "X_blstm = pad_sequences(txt_to_seq, maxlen=N_TIMESTEPS, padding='post')\n",
    "print(f\"input shape: {X_blstm.shape}\")\n",
    "print(f\"BLSTM input example:\\n{X_blstm[:5]}\\n\")\n",
    "\n",
    "y_loc = loc_lines[:INPUT_SIZE,1:]\n",
    "y_blstm = to_categorical(y_loc, num_classes=N_CLASSES)\n",
    "print(f\"labels shape: {y_blstm.shape}\")\n",
    "# print(f\"BLSTM labels:\\n{y_blstm[:5]}\\n\")\n",
    "\n",
    "weights = class_weight.compute_class_weight('balanced', np.unique(y_loc), y_loc.flatten())\n",
    "class_weight_dict = dict(enumerate(weights))\n",
    "print(f\"class weight dict:\\n{class_weight_dict}\\n\")\n",
    "\n",
    "vfunc = np.vectorize(lambda x: class_weight_dict[x])\n",
    "sample_weights = vfunc(y_loc)\n",
    "print(f\"sample_weights shape: {sample_weights.shape}\")\n",
    "print(f\"sample_weights examples:\\n{sample_weights[:5]}\\n\")"
   ]
  },
  {
   "cell_type": "markdown",
   "metadata": {},
   "source": [
    " ### Train model\n",
    " \n",
    " The following code is used to create and train a new model."
   ]
  },
  {
   "cell_type": "code",
   "execution_count": 102,
   "metadata": {},
   "outputs": [
    {
     "name": "stdout",
     "output_type": "stream",
     "text": [
      "Train on 95000 samples, validate on 5000 samples\n",
      "Epoch 1/10\n",
      " - 279s - loss: 0.2689 - acc: 0.8361 - val_loss: 0.2323 - val_acc: 0.8754\n",
      "Epoch 2/10\n",
      " - 291s - loss: 0.1933 - acc: 0.9030 - val_loss: 0.2334 - val_acc: 0.9024\n",
      "Epoch 3/10\n",
      " - 288s - loss: 0.1539 - acc: 0.9278 - val_loss: 0.2574 - val_acc: 0.9159\n",
      "Epoch 4/10\n",
      " - 305s - loss: 0.1207 - acc: 0.9455 - val_loss: 0.3019 - val_acc: 0.9239\n",
      "Epoch 5/10\n",
      " - 330s - loss: 0.0967 - acc: 0.9572 - val_loss: 0.3513 - val_acc: 0.9250\n",
      "Epoch 6/10\n",
      " - 282s - loss: 0.0800 - acc: 0.9648 - val_loss: 0.4064 - val_acc: 0.9307\n",
      "Epoch 7/10\n",
      " - 282s - loss: 0.0682 - acc: 0.9702 - val_loss: 0.4658 - val_acc: 0.9351\n",
      "Epoch 8/10\n",
      " - 283s - loss: 0.0594 - acc: 0.9741 - val_loss: 0.5623 - val_acc: 0.9390\n",
      "Epoch 9/10\n",
      " - 304s - loss: 0.0521 - acc: 0.9774 - val_loss: 0.6244 - val_acc: 0.9408\n",
      "Epoch 10/10\n",
      " - 313s - loss: 0.0463 - acc: 0.9799 - val_loss: 0.6857 - val_acc: 0.9438\n"
     ]
    },
    {
     "data": {
      "text/plain": [
       "<keras.callbacks.History at 0x1d78c4ad748>"
      ]
     },
     "execution_count": 102,
     "metadata": {},
     "output_type": "execute_result"
    }
   ],
   "source": [
    "from keras.models import Sequential\n",
    "from keras.layers import Embedding\n",
    "from keras.layers import LSTM\n",
    "from keras.layers import Dense\n",
    "from keras.layers import TimeDistributed\n",
    "from keras.layers import Bidirectional\n",
    "\n",
    "def get_bi_lstm_model(n_timesteps=N_TIMESTEPS, mode=\"concat\"):\n",
    "    model = Sequential()\n",
    "    model.add(Embedding(vocab_size, 10, input_length=N_TIMESTEPS))\n",
    "    model.add(Bidirectional(LSTM(20, return_sequences=True), merge_mode=mode))\n",
    "    model.add(TimeDistributed(Dense(N_CLASSES, activation='softmax')))\n",
    "    model.compile(loss='binary_crossentropy', optimizer='adam', metrics=[\"accuracy\"], sample_weight_mode=\"temporal\")\n",
    "    return model\n",
    "\n",
    "blstm = get_bi_lstm_model()\n",
    "blstm.fit(X_blstm, y_blstm, epochs=10, validation_split=0.05, verbose=2, sample_weight=sample_weights)"
   ]
  },
  {
   "cell_type": "markdown",
   "metadata": {},
   "source": [
    "### Load/Save model\n",
    "\n",
    "The following two blocks are used to save and load models."
   ]
  },
  {
   "cell_type": "code",
   "execution_count": 119,
   "metadata": {
    "collapsed": true
   },
   "outputs": [],
   "source": [
    "BLSTM_MODEL_FILE_NAME = \"blstm_model_\" + PARAMETER_STR + \".h5\"\n",
    "blstm.save(BLSTM_MODEL_FILE_NAME)"
   ]
  },
  {
   "cell_type": "code",
   "execution_count": 120,
   "metadata": {
    "collapsed": true
   },
   "outputs": [],
   "source": [
    "from keras.models import load_model\n",
    "\n",
    "blstm = load_model(BLSTM_MODEL_FILE_NAME)"
   ]
  },
  {
   "cell_type": "code",
   "execution_count": 121,
   "metadata": {},
   "outputs": [
    {
     "name": "stdout",
     "output_type": "stream",
     "text": [
      "example of labels (emoji locations):\n",
      "[[0 1 0 0 0 0 0 0 0 0 0 0 0 0 0 0 0 0 0 0 0 0 0 0 0 0 0 0 0 0 0]\n",
      " [0 0 0 0 0 0 0 0 1 0 0 0 0 0 0 0 0 0 0 0 0 0 0 0 0 0 0 0 0 0 0]\n",
      " [0 0 0 0 1 0 0 0 0 0 0 0 0 0 0 0 0 0 0 0 0 0 0 0 0 0 0 0 0 0 0]\n",
      " [0 0 0 0 0 0 0 0 0 0 0 0 1 0 0 0 0 0 0 0 0 0 0 0 0 0 0 0 0 0 0]\n",
      " [0 0 0 1 0 0 0 0 0 0 0 0 0 0 0 0 0 0 0 0 0 0 0 0 0 0 0 0 0 0 0]\n",
      " [0 0 0 0 0 0 0 0 1 0 0 0 0 0 0 0 0 0 0 0 0 0 0 0 0 0 0 0 0 0 0]\n",
      " [0 0 0 0 1 0 0 0 0 0 0 0 0 0 0 0 0 0 0 0 0 0 0 0 0 0 0 0 0 0 0]\n",
      " [0 0 1 0 0 0 0 0 0 0 0 0 0 0 0 0 0 0 0 0 0 0 0 0 0 0 0 0 0 0 0]\n",
      " [0 0 0 0 0 0 0 1 0 0 0 0 0 0 0 0 0 0 0 0 0 0 0 0 0 0 0 0 0 0 0]\n",
      " [0 0 0 0 1 0 0 0 0 0 0 0 0 0 0 0 0 0 0 0 0 0 0 0 0 0 0 0 0 0 0]]\n",
      "\n",
      "model predictions:\n",
      "[[0 1 0 0 0 0 0 0 0 0 0 0 0 0 0 0 0 0 0 0 0 0 0 0 0 0 0 0 0 0 0]\n",
      " [0 0 0 0 0 0 0 0 1 0 0 0 0 0 0 0 0 0 0 0 0 0 0 0 0 0 0 0 0 0 0]\n",
      " [0 0 0 1 1 1 0 0 0 0 0 0 0 0 0 0 0 0 0 0 0 0 0 0 0 0 0 0 0 0 0]\n",
      " [0 0 0 0 0 0 0 0 0 0 0 0 1 0 0 0 0 0 0 0 0 0 0 0 0 0 0 0 0 0 0]\n",
      " [0 0 0 1 0 0 0 0 0 0 0 0 0 0 0 0 0 0 0 0 0 0 0 0 0 0 0 0 0 0 0]\n",
      " [0 0 0 0 0 0 0 0 1 0 0 0 0 0 0 0 0 0 0 0 0 0 0 0 0 0 0 0 0 0 0]\n",
      " [0 0 0 0 1 0 0 0 0 0 0 0 0 0 0 0 0 0 0 0 0 0 0 0 0 0 0 0 0 0 0]\n",
      " [0 0 1 0 0 0 0 1 0 0 0 0 0 0 0 0 0 0 0 0 0 0 0 0 0 0 0 0 0 0 0]\n",
      " [0 0 0 0 0 0 0 1 0 0 0 0 0 0 0 0 0 0 0 0 0 0 0 0 0 0 0 0 0 0 0]\n",
      " [0 0 0 0 1 0 0 0 0 0 0 0 0 0 0 0 0 0 0 0 0 0 0 0 0 0 0 0 0 0 0]]\n",
      "\n"
     ]
    }
   ],
   "source": [
    "NUM_OF_TWEETS_TO_TEST = 10\n",
    "\n",
    "def get_predictions(texts):\n",
    "    text_to_integer_sequences = tokenizer.texts_to_sequences(texts)\n",
    "    blstm_input = pad_sequences(text_to_integer_sequences, maxlen=N_TIMESTEPS, padding='post')\n",
    "    ypred = blstm.predict_classes(blstm_input)\n",
    "    return np.insert(ypred, 0, 0, axis=1)\n",
    "\n",
    "print(f\"example of labels (emoji locations):\\n{loc_lines[:NUM_OF_TWEETS_TO_TEST]}\\n\")\n",
    "print(f\"model predictions:\\n{get_predictions(text_lines[:NUM_OF_TWEETS_TO_TEST])}\\n\")"
   ]
  },
  {
   "cell_type": "markdown",
   "metadata": {},
   "source": [
    "### Load/Save predictions\n",
    "\n",
    "Use the code below to save/load a model's predictions. Training and testing the model requires a powerful Nvidia GPU and is time consuming. This also enables the evaluation of results without having to work with the model itself."
   ]
  },
  {
   "cell_type": "code",
   "execution_count": 115,
   "metadata": {},
   "outputs": [
    {
     "data": {
      "text/plain": [
       "['blstm_predictions_2_100000_10_20.pkl']"
      ]
     },
     "execution_count": 115,
     "metadata": {},
     "output_type": "execute_result"
    }
   ],
   "source": [
    "BLSTM_PREDICTIONS_FILE_NAME = \"blstm_predictions_\" + PARAMETER_STR + \".pkl\"\n",
    "predictions = get_predictions(text_lines)\n",
    "\n",
    "result_dict = {}\n",
    "result_dict[\"num_of_classes\"] = N_CLASSES\n",
    "result_dict[\"num_of_input_tweets\"] = INPUT_SIZE\n",
    "result_dict[\"embedding_size\"] = EMBEDDING_SIZE\n",
    "result_dict[\"hidden_size\"] = HIDDEN_SIZE\n",
    "result_dict[\"input_X\"] = X_blstm\n",
    "result_dict[\"input_y\"] = y_blstm\n",
    "result_dict[\"ypred\"] = predictions\n",
    "\n",
    "joblib.dump(result_dict, BLSTM_PREDICTIONS_FILE_NAME)"
   ]
  },
  {
   "cell_type": "code",
   "execution_count": null,
   "metadata": {
    "collapsed": true
   },
   "outputs": [],
   "source": [
    "result_dict = joblib.load(BLSTM_PREDICTIONS_FILE_NAME)"
   ]
  }
 ],
 "metadata": {
  "hide_code_all_hidden": false,
  "kernelspec": {
   "display_name": "Python 3",
   "language": "python",
   "name": "python3"
  },
  "language_info": {
   "codemirror_mode": {
    "name": "ipython",
    "version": 3
   },
   "file_extension": ".py",
   "mimetype": "text/x-python",
   "name": "python",
   "nbconvert_exporter": "python",
   "pygments_lexer": "ipython3",
   "version": "3.6.2"
  }
 },
 "nbformat": 4,
 "nbformat_minor": 2
}

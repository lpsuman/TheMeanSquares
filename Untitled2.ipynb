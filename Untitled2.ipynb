{
 "cells": [
  {
   "cell_type": "markdown",
   "metadata": {
    "hideCode": false,
    "hidePrompt": false
   },
   "source": [
    "### 10 Emoji Prediction\n",
    "\n",
    "The task of this project is to make a system that would automatically fill the text with the appropriate emoticons. This can be done in two steps. First, for each position within the text a prediction is made whether an emoticon should be placed there. Second, an appropriate emoticon is chosen from a list of available emoticons. Both these tasks can be set up as supervised classification problems.\n",
    "\n",
    "Competition website:\n",
    "https://competitions.codalab.org/competitions/17344\n",
    "\n",
    "Dataset:\n",
    "https://competitions.codalab.org/competitions/17344\n",
    "\n",
    "Entry point:\n",
    "https://arxiv.org/pdf/1702.07285.pdf (Barbieri, Francesco, Miguel Ballesteros, and Horacio Saggion. Are Emojis Predictable?)"
   ]
  },
  {
   "cell_type": "code",
   "execution_count": 1,
   "metadata": {
    "hideCode": false,
    "hidePrompt": false
   },
   "outputs": [
    {
     "name": "stdout",
     "output_type": "stream",
     "text": [
      "Populating the interactive namespace from numpy and matplotlib\n"
     ]
    }
   ],
   "source": [
    "import numpy as np\n",
    "import scipy as sp\n",
    "import pandas as pd\n",
    "import matplotlib.pyplot as plt\n",
    "import time\n",
    "%pylab inline"
   ]
  },
  {
   "cell_type": "markdown",
   "metadata": {
    "hideCode": false,
    "hidePrompt": false
   },
   "source": [
    "Define paths to folders containing data and results."
   ]
  },
  {
   "cell_type": "code",
   "execution_count": 2,
   "metadata": {
    "collapsed": true,
    "hideCode": false,
    "hidePrompt": false
   },
   "outputs": [],
   "source": [
    "NUMBER_OF_TWEETS = None\n",
    "# NUMBER_OF_TWEETS = 100000\n",
    "\n",
    "MAX_WORDS_PER_TWEET = 30\n",
    "DATA_LOCATION = \"./train/data/\"\n",
    "RESULT_LOCATION = \"./results/\"\n",
    "\n",
    "\n",
    "#TWEET_FILE_NAME = \"tweet_by_ID_28_4_2018__03_20_05\" + \"_\"\n",
    "TWEET_FILE_NAME = \"tweet_by_ID_02_6_2018__05_40_21\" + \"_\"\n",
    "\n",
    "if NUMBER_OF_TWEETS is not None:\n",
    "    TWEET_FILE_NAME += str(NUMBER_OF_TWEETS)\n",
    "else:\n",
    "    TWEET_FILE_NAME += \"ALL\""
   ]
  },
  {
   "cell_type": "markdown",
   "metadata": {
    "hideCode": false,
    "hidePrompt": false
   },
   "source": [
    "### Load the data\n",
    "Tweets are loaded in two ways: list of strings (for the TF-IDF vectorizer) and a list of list of words (for feature extraction). Labels are read as a numpy array of N * MAX_WORDS_PER_TWEET dimensions."
   ]
  },
  {
   "cell_type": "code",
   "execution_count": 3,
   "metadata": {
    "hideCode": false,
    "hidePrompt": false
   },
   "outputs": [
    {
     "name": "stdout",
     "output_type": "stream",
     "text": [
      "number of tweets 473370\n",
      "example of tweet texts:\n",
      "['lol @ west covina , california', 'things got a little festive at the office #christmas2016 @ redrock', 'step out and explore . @ ellis island cafe', '@user @ cathedral preparatory school', \"my baby bear @ bubby's\"]\n",
      "\n",
      "example of labels (emoji locations):\n",
      "[[0 1 0 0 0 0 0 0 0 0 0 0 0 0 0 0 0 0 0 0 0 0 0 0 0 0 0 0 0 0 0]\n",
      " [0 0 0 0 0 0 0 0 1 0 0 0 0 0 0 0 0 0 0 0 0 0 0 0 0 0 0 0 0 0 0]\n",
      " [0 0 0 0 0 1 0 0 0 0 0 0 0 0 0 0 0 0 0 0 0 0 0 0 0 0 0 0 0 0 0]\n",
      " [1 0 0 0 0 0 0 0 0 0 0 0 0 0 0 0 0 0 0 0 0 0 0 0 0 0 0 0 0 0 0]\n",
      " [0 0 0 1 0 0 0 0 0 0 0 0 0 0 0 0 0 0 0 0 0 0 0 0 0 0 0 0 0 0 0]]\n",
      "example of labels (emoji type):\n",
      "[[ 0  3  0  0  0  0  0  0  0  0  0  0  0  0  0  0  0  0  0  0  0  0  0  0\n",
      "   0  0  0  0  0  0  0]\n",
      " [ 0  0  0  0  0  0  0  0 18  0  0  0  0  0  0  0  0  0  0  0  0  0  0  0\n",
      "   0  0  0  0  0  0  0]\n",
      " [ 0  0  0  0  0  1  0  0  0  0  0  0  0  0  0  0  0  0  0  0  0  0  0  0\n",
      "   0  0  0  0  0  0  0]\n",
      " [19  0  0  0  0  0  0  0  0  0  0  0  0  0  0  0  0  0  0  0  0  0  0  0\n",
      "   0  0  0  0  0  0  0]\n",
      " [ 0  0  0  2  0  0  0  0  0  0  0  0  0  0  0  0  0  0  0  0  0  0  0  0\n",
      "   0  0  0  0  0  0  0]]\n"
     ]
    }
   ],
   "source": [
    "base_file_name = DATA_LOCATION + TWEET_FILE_NAME\n",
    "\n",
    "text_lines = []\n",
    "text_lines_split = []\n",
    "\n",
    "with open(base_file_name + \".text\", 'r', encoding=\"utf-8\") as out_text:\n",
    "    for line in out_text:\n",
    "        text_lines.append(line[:-1])\n",
    "        text_lines_split.append(line[:-1].split())\n",
    "        \n",
    "loc_lines = []\n",
    "with open(base_file_name + \".loclabels\", 'r') as loc_labels:\n",
    "    for line in loc_labels:\n",
    "        loc_line = []\n",
    "        for c in line[:-1]:\n",
    "            loc_line.append(int(c))\n",
    "        loc_lines.append(loc_line)\n",
    "\n",
    "loc_lines = np.asarray(loc_lines)\n",
    "\n",
    "emo_lines = []\n",
    "with open(base_file_name + \".emolabels\", 'r') as emo_labels:\n",
    "    for e_line, loc in zip(emo_labels, loc_lines):\n",
    "        emo_line = [0]*31\n",
    "        e_line2 = e_line.split()\n",
    "        \n",
    "        br = 0\n",
    "        for idx, val in enumerate(loc[:-1]):\n",
    "            if val==1:\n",
    "                emo_line[idx]=int(e_line2[br])+1\n",
    "                br += 1\n",
    "        emo_lines.append(emo_line)\n",
    "        \n",
    "emo_lines = np.asarray(emo_lines)\n",
    "\n",
    "print(f\"number of tweets {len(text_lines)}\")\n",
    "print(f\"example of tweet texts:\\n{text_lines[:5]}\\n\")\n",
    "print(f\"example of labels (emoji locations):\\n{loc_lines[:5]}\")\n",
    "print(f\"example of labels (emoji type):\\n{emo_lines[:5]}\")"
   ]
  },
  {
   "cell_type": "markdown",
   "metadata": {
    "hideCode": false,
    "hidePrompt": false
   },
   "source": [
    "### TF-IDF Feature Extraction\n",
    "TF-IDF is computed on the collection of tweets. Then for every position between words a new example is generated: a 2 * k array containing the k left and k right tfidf values of words. \n",
    "Labels for locations are taken as 1 or 0 wether an emoji was there in the original tweet.\n",
    "Labels for emojis are mapped to a number between 0 and 20 where 20 marks no appearance of emoji and the rest describes 20 most frequent emojis."
   ]
  },
  {
   "cell_type": "code",
   "execution_count": 4,
   "metadata": {
    "collapsed": true,
    "hideCode": false,
    "hidePrompt": false
   },
   "outputs": [],
   "source": [
    "from sklearn.feature_extraction.text import TfidfVectorizer\n",
    "import random\n",
    "\n",
    "X_tfidf = None\n",
    "word_to_tfidf_index_dict = {}\n",
    "\n",
    "\n",
    "\n",
    "def tfidf_features(tweets, loc_labels, emo_labels, k, func):\n",
    "    global word_to_tfidf_index_dict, X_tfidf\n",
    "    \n",
    "    tfidf_model = TfidfVectorizer(input=\"content\", analyzer=\"word\", stop_words=\"english\")\n",
    "    X_tfidf = tfidf_model.fit_transform(text_lines)\n",
    "\n",
    "    #word_to_tfidf_index_dict = {}\n",
    "    for i, word in enumerate(tfidf_model.get_feature_names()):\n",
    "        word_to_tfidf_index_dict[word] = i\n",
    "\n",
    "    print(f\"X shape {X_tfidf.shape}\")\n",
    "    print(f\"y_l shape {loc_lines.shape}\")\n",
    "    print(f\"y_e shape {emo_lines.shape}\")\n",
    "    print(f\"some tf-idf values\\n{X_tfidf[0]}\\n\")\n",
    "\n",
    "    N = len(tweets)\n",
    "    X = []\n",
    "    y_l = []\n",
    "    y_e = []\n",
    "    \n",
    "    for tweet_index, (tweet, l_label, e_label) in enumerate(zip(tweets, loc_labels, emo_labels)):\n",
    "        for pos in range(len(tweet) + 1):\n",
    "                \n",
    "            x = []\n",
    "            for i in range(pos - k, pos + k):\n",
    "                if i < 0 or i >= len(tweet):\n",
    "                    x.append(0.0)\n",
    "                else:\n",
    "                    x.append(func(tweet_index, tweet[i]))\n",
    "            X.append(x)\n",
    "            y_l.append(l_label[pos])\n",
    "            y_e.append(e_label[pos])\n",
    "            \n",
    "    return np.asarray(X), np.asarray(y_l), np.asarray(y_e)\n",
    "\n",
    "def word_to_tfidf(tweet_index, word):\n",
    "    global word_to_tfidf_index_dict, X_tfidf\n",
    "    \n",
    "    if word in word_to_tfidf_index_dict:\n",
    "        return X_tfidf[tweet_index, word_to_tfidf_index_dict[word]]\n",
    "    else:\n",
    "        return 0.0\n",
    "\n",
    "\n",
    "def print_dataset(X, y_l, y_e):\n",
    "    emoji_num = np.count_nonzero(y_l)\n",
    "    class_freq_ratio = emoji_num / (X.shape[0] * X.shape[1])\n",
    "    \n",
    "    print(\"after feature extraction:\")\n",
    "    print(f\"X shape {X.shape}\")\n",
    "    print(f\"y_l shape {y_l.shape}\")\n",
    "    print(f\"y_e shape {y_e.shape}\")\n",
    "    print(f\"some X values\\n{X[:5]}\")\n",
    "    print(f\"some y_l values\\n{y_l[:5]}\")\n",
    "    print(f\"non zero elements (1 in label) in y_l {emoji_num}\")\n",
    "    print(f\"class frequency ratio {class_freq_ratio}\\n\")\n",
    "    print(f\"some y_e values\\n{y_e[:5]}\")"
   ]
  },
  {
   "cell_type": "markdown",
   "metadata": {},
   "source": [
    "### Word2Vector Feature Extraction"
   ]
  },
  {
   "cell_type": "code",
   "execution_count": null,
   "metadata": {
    "collapsed": true
   },
   "outputs": [],
   "source": [
    "from sklearn.feature_extraction.text import TfidfVectorizer\n",
    "from gensim.models import Word2Vec\n",
    "\n",
    "num_of_features = 6\n",
    "w2v_model_file_name = \"w2v_model\""
   ]
  },
  {
   "cell_type": "code",
   "execution_count": null,
   "metadata": {
    "collapsed": true
   },
   "outputs": [],
   "source": [
    "w2v_model = Word2Vec(text_lines_split, min_count=1, size=num_of_features)\n",
    "w2v_model.save(w2v_model_file_name)"
   ]
  },
  {
   "cell_type": "code",
   "execution_count": null,
   "metadata": {
    "collapsed": true
   },
   "outputs": [],
   "source": [
    "w2v_model = Word2Vec.load(w2v_model_file_name)\n",
    "\n",
    "example = w2v_model.wv[\"california\"]\n",
    "print(example.shape)\n",
    "print(example)"
   ]
  },
  {
   "cell_type": "code",
   "execution_count": null,
   "metadata": {
    "collapsed": true
   },
   "outputs": [],
   "source": [
    "def w2v_features(tweets, loc_labels, emo_labels, k):\n",
    "    N = len(tweets)\n",
    "    X = []\n",
    "    y_l = []\n",
    "    y_e = []\n",
    "    \n",
    "    for tweet_index, (tweet, l_label, e_label) in enumerate(zip(tweets, loc_labels, emo_labels)):\n",
    "        for pos in range(len(tweet) + 1):\n",
    "            x = []\n",
    "            for i in range(pos - k, pos + k):\n",
    "                if i < 0 or i >= len(tweet):\n",
    "                    x.append(np.zeros(num_of_features))\n",
    "                else:\n",
    "                    x.append(w2v_model.wv[tweet[i]])\n",
    "            x = np.average(x, axis=0)\n",
    "            X.append(x)\n",
    "            y_l.append(l_label[pos])\n",
    "            y_e.append(e_label[pos])\n",
    "            \n",
    "    return np.asarray(X), np.asarray(y_l), np.asarray(y_e)"
   ]
  },
  {
   "cell_type": "code",
   "execution_count": 6,
   "metadata": {},
   "outputs": [
    {
     "name": "stdout",
     "output_type": "stream",
     "text": [
      "X shape (473370, 286180)\n",
      "y_l shape (473370, 31)\n",
      "y_e shape (473370, 31)\n",
      "some tf-idf values\n",
      "  (0, 151942)\t0.408098724048\n",
      "  (0, 275106)\t0.434595047661\n",
      "  (0, 60970)\t0.721286540397\n",
      "  (0, 44594)\t0.352602187487\n",
      "\n",
      "after feature extraction:\n",
      "X shape (6374843, 6)\n",
      "y_l shape (6374843,)\n",
      "y_e shape (6374843,)\n",
      "some X values\n",
      "[[ 0.          0.          0.          0.40809872  0.          0.43459505]\n",
      " [ 0.          0.          0.40809872  0.          0.43459505  0.72128654]\n",
      " [ 0.          0.40809872  0.          0.43459505  0.72128654  0.        ]\n",
      " [ 0.40809872  0.          0.43459505  0.72128654  0.          0.35260219]\n",
      " [ 0.          0.43459505  0.72128654  0.          0.35260219  0.        ]]\n",
      "some y_l values\n",
      "[0 1 0 0 0]\n",
      "non zero elements (1 in label) in y_l 482675\n",
      "class frequency ratio 0.012619265028696916\n",
      "\n",
      "some y_e values\n",
      "[0 3 0 0 0]\n"
     ]
    }
   ],
   "source": [
    "should_use_tfidf = False\n",
    "should_use_hybrid = True\n",
    "k = 3\n",
    "\n",
    "\n",
    "#X_tfidf, y_tfidf = neighbor_features(text_lines_split, loc_lines, k, word_to_tfidf)\n",
    "X_tfidf, y_loc_tfidf, y_emo_tfidf = tfidf_features(text_lines_split, loc_lines, emo_lines, k, word_to_tfidf)\n",
    "\n",
    "# X_w2v, y_loc_w2v, y_emo_w2v = w2v_features(text_lines_split, loc_lines, emo_lines, k)\n",
    "# X_hybrid = np.hstack((X_tfidf, X_w2v))\n",
    "\n",
    "# if should_use_tfidf:\n",
    "#     X, y_l, y_e = X_tfidf, y_loc_tfidf, y_emo_tfidf\n",
    "# else:\n",
    "#     X, y_l, y_e = X_w2v, y_loc_w2v, y_emo_w2v\n",
    "    \n",
    "# if should_use_hybrid:\n",
    "#     X = X_hybrid\n",
    "\n",
    "print_dataset(X_tfidf, y_loc_tfidf, y_emo_tfidf)"
   ]
  },
  {
   "cell_type": "markdown",
   "metadata": {
    "hideCode": false,
    "hidePrompt": false
   },
   "source": [
    "### Build data sets\n",
    "Dataset is randomly split into train and test subsets. Ignored while using KFold."
   ]
  },
  {
   "cell_type": "code",
   "execution_count": 11,
   "metadata": {
    "collapsed": true,
    "hideCode": false,
    "hidePrompt": false
   },
   "outputs": [],
   "source": [
    "from sklearn.model_selection import train_test_split\n",
    "\n",
    "if not should_use_kfold:\n",
    "    X_train, X_test, y_loc_train, y_loc_test, y_emo_train, y_emo_test = train_test_split(X, y_l, y_e, test_size=0.2, random_state=42)\n",
    "\n",
    "    print(X_train.shape)\n",
    "    print(y_loc_train.shape)\n",
    "    print(y_emo_train.shape)\n",
    "    print(X_train[30:50])\n",
    "    print(y_loc_train[30:50])\n",
    "    print(y_emo_train[30:50])\n",
    "    "
   ]
  },
  {
   "cell_type": "markdown",
   "metadata": {
    "hideCode": false,
    "hidePrompt": false
   },
   "source": [
    "### Baselines\n",
    "\n",
    "Make sure to check should_train flags when training/testing."
   ]
  },
  {
   "cell_type": "code",
   "execution_count": 7,
   "metadata": {
    "collapsed": true,
    "hideCode": false,
    "hidePrompt": false
   },
   "outputs": [],
   "source": [
    "should_use_kfold = True\n",
    "\n",
    "should_train_global = False\n",
    "should_train_linear_svm = True\n",
    "should_train_bagging_svm = False\n",
    "should_train_random_forest = True\n",
    "should_train_adaboost = True\n",
    "\n",
    "linear_svm_model_file_name = \"linear_svm.pkl\"\n",
    "bagging_model_file_name = \"bagging_svm.pkl\"\n",
    "random_forest_file_name = \"random_forest.pkl\"\n",
    "adaboost_file_name = \"adaboost.pkl\""
   ]
  },
  {
   "cell_type": "code",
   "execution_count": 8,
   "metadata": {
    "collapsed": true,
    "hideCode": false,
    "hidePrompt": false
   },
   "outputs": [],
   "source": [
    "from sklearn.externals import joblib\n",
    "from sklearn.metrics import accuracy_score\n",
    "from sklearn.metrics import precision_score\n",
    "from sklearn.metrics import recall_score\n",
    "from sklearn.metrics import f1_score\n",
    "from sklearn.model_selection import cross_val_score, KFold\n",
    "\n",
    "np.set_printoptions(threshold=np.inf)\n",
    "EVALUATION_RESULTS_KEYS = ['Accuracy: ', 'Precision: ', 'Recall: ', 'F1: ', 'ratio of positive/negative predictions: ']\n",
    "\n",
    "kf = KFold(n_splits=5, shuffle=True)\n",
    "\n",
    "def vectorize_func(a, b):\n",
    "    if a == b:\n",
    "        return 1\n",
    "    else:\n",
    "        return 0\n",
    "\n",
    "def calc_scores(y_pred, y_test, multi_class):\n",
    "    result = []\n",
    "    \n",
    "    if multi_class:\n",
    "        result_temp = []\n",
    "    \n",
    "        for i in range(0, 21):\n",
    "            vfunc = np.vectorize(vectorize_func)\n",
    "            y_test_new = vfunc(y_test, i)\n",
    "            y_pred_new = vfunc(y_pred, i)\n",
    "            \n",
    "            result_temp2 = []\n",
    "            alfa=1\n",
    "            if i == 0:\n",
    "                alfa=1/5\n",
    "            \n",
    "            result_temp2.append(alfa*accuracy_score(y_pred_new, y_test_new))\n",
    "            result_temp2.append(alfa*precision_score(y_pred_new, y_test_new))\n",
    "            result_temp2.append(alfa*recall_score(y_pred_new, y_test_new))\n",
    "            result_temp2.append(alfa*f1_score(y_pred_new, y_test_new))\n",
    "            result_temp.append(result_temp2)\n",
    "    \n",
    "        result_avg = np.average(np.asarray(result_temp), axis=0)\n",
    "        result = result_avg[:]\n",
    "    else:\n",
    "        result.append(accuracy_score(y_pred, y_test))\n",
    "        result.append(precision_score(y_pred, y_test))\n",
    "        result.append(recall_score(y_pred, y_test))\n",
    "        result.append(f1_score(y_pred, y_test))\n",
    "        result.append(np.count_nonzero(y_pred) / y_pred.shape[0])\n",
    "    return result\n",
    "\n",
    "def print_scores(scores, multi_class):\n",
    "    print(f\"Accuracy: {scores[0]}\")\n",
    "    print(f\"Precision: {scores[1]}\")\n",
    "    print(f\"Recall: {scores[2]}\")\n",
    "    print(f\"F1: {scores[3]}\")\n",
    "    if not multi_class:\n",
    "        print(f\"ratio of positive/negative predictions: {scores[4]}\")\n",
    "\n",
    "def kfold_score(clf, X, y, multi_class, print1=True):\n",
    "    fold_scores = []\n",
    "    for train_index, test_index in kf.split(X):\n",
    "        X_train_kf, X_test_kf = X[train_index], X[test_index]\n",
    "        y_train_kf, y_test_kf = y[train_index], y[test_index]\n",
    "        clf.fit(X_train_kf, y_train_kf)\n",
    "        y_pred = clf.predict(X_test_kf)\n",
    "        fold_scores.append(calc_scores(y_pred, y_test_kf, multi_class))\n",
    "        \n",
    "    #print(f\"{y_test_kf[:200]}\")\n",
    "    #print(f\"{y_pred[:200]}\")\n",
    "    fold_scores = np.average(np.asarray(fold_scores), axis=0)\n",
    "    if print1:\n",
    "        print_scores(fold_scores, multi_class)\n",
    "    return fold_scores\n",
    "\n",
    "def train_and_save_model(model, X_train, y_train, model_file_name):\n",
    "    model.fit(X_train, y_train)\n",
    "    joblib.dump(model, model_file_name)\n",
    "    \n",
    "def load_and_test_model(model_file_name, X_test, y_test, multi_class):\n",
    "    clf_loaded = joblib.load(model_file_name)\n",
    "    y_pred = clf_loaded.predict(X_test)\n",
    "    \n",
    "    scores = calc_scores(y_pred, y_test, multi_class)\n",
    "    print_scores(scores, multi_class)\n",
    "    return scores\n",
    "    \n",
    "def do_test(clf, X, y, clf_file_name, flag, multi_class=False):\n",
    "    if should_use_kfold:\n",
    "        return kfold_score(clf, X, y, multi_class)\n",
    "    else:\n",
    "        if should_train_global and flag:\n",
    "            train_and_save_model(clf, X_train, y_train, clf_file_name)\n",
    "        return load_and_test_model(clf_file_name, X_test, y_test, multi_class) \n",
    "    \n",
    "    \n",
    "def write_to_file(best_params, results, baseline_name, loc_or_emo):\n",
    "    timestr = time.strftime(\"%d_%m_%Y__%H_%M_%S_\")\n",
    "    FOLDER_LOCATION = RESULT_LOCATION + \"baselines/\" + baseline_name + \"/\"\n",
    "    FILE_NAME = baseline_name + \"_\" + loc_or_emo + \"_\" + timestr\n",
    "    if NUMBER_OF_TWEETS is not None:\n",
    "        FILE_NAME += str(NUMBER_OF_TWEETS)\n",
    "    else:\n",
    "        FILE_NAME += \"ALL\"\n",
    "    FILE_NAME += '.text'\n",
    "    RESULTS_FILE_NAME = FOLDER_LOCATION + FILE_NAME\n",
    "\n",
    "    file = open(RESULTS_FILE_NAME, \"w+\")\n",
    "    file.write(baseline_name + \", \" + loc_or_emo + \":\\n\\n\")\n",
    "    for key, val in best_params.items():\n",
    "        file.write(key+ \": \"+str(val)+\"\\n\")\n",
    "    file.write(\"\\n\")\n",
    "    for i, res in enumerate(results):\n",
    "        file.write(EVALUATION_RESULTS_KEYS[i]+str(res)+\"\\n\")\n",
    "    file.write(\"\\n\"+TWEET_FILE_NAME+ \".text\")\n",
    "    file.close()"
   ]
  },
  {
   "cell_type": "code",
   "execution_count": 14,
   "metadata": {},
   "outputs": [
    {
     "name": "stdout",
     "output_type": "stream",
     "text": [
      "[ 0.95340974  0.01257829  0.01257916  0.01257754]\n"
     ]
    }
   ],
   "source": [
    "X_train, X_test, y_loc_train, y_loc_test, y_emo_train, y_emo_test = train_test_split(X_tfidf, y_loc_tfidf, y_emo_tfidf, shuffle=False, test_size=0.1, random_state=42)\n",
    "\n",
    "from sklearn.dummy import DummyClassifier\n",
    "from sklearn.metrics import classification_report\n",
    "\n",
    "dummy_clf = DummyClassifier(strategy=\"stratified\")\n",
    "dummy_clf.fit(X_train, y_emo_train)\n",
    "dummy_pred = dummy_clf.predict(X_test)\n",
    "print(calc_scores(y_emo_test, dummy_pred, multi_class=True))"
   ]
  },
  {
   "cell_type": "markdown",
   "metadata": {
    "hideCode": false,
    "hidePrompt": false
   },
   "source": [
    "### Linear SVM Baseline\n",
    "\n",
    "Linear SVM is based on the liblinear library and is faster on large datasets. Not using dual optimization problem makes the train extremely fast. It is the fastest so both feature extraction methods are used for comparison."
   ]
  },
  {
   "cell_type": "code",
   "execution_count": null,
   "metadata": {
    "collapsed": true,
    "hideCode": false,
    "hidePrompt": false,
    "scrolled": true
   },
   "outputs": [],
   "source": [
    "from sklearn.svm import LinearSVC\n",
    "from sklearn.model_selection import GridSearchCV\n",
    "from sklearn.metrics import classification_report, f1_score\n",
    "\n",
    "#svm_clf = LinearSVC(class_weight=\"balanced\", dual=False)\n",
    "X_train, X_test, y_loc_train, y_loc_test = train_test_split(X_tfidf, y_loc_tfidf, shuffle=False, test_size=0.1, random_state=42)\n",
    "\n",
    "\n",
    "# Parameter tunning\n",
    "\n",
    "\"\"\"\n",
    "\n",
    "parameters = {'C':[0.05, 0.5, 1, 2]}\n",
    "scoring = 'f1'\n",
    "clf = GridSearchCV(svm_clf, parameters, cv=5, scoring=scoring)\n",
    "clf.fit(X_tfidf, y_loc_tfidf)\n",
    "\n",
    "best_estimator = clf.best_estimator_\n",
    "best_params = {}\n",
    "best_params['C'] = clf.best_params_['C']\n",
    "\n",
    "y_pred = clf.predict(X_test)\n",
    "\n",
    "\"\"\"\n",
    "\n",
    "X_train2, X_val, y_loc_train2, y_loc_val = train_test_split(X_train, y_loc_train, test_size=0.2, random_state=42)\n",
    "c_range = (-5, 15)\n",
    "param_C = [2**i for i in range(c_range[0], c_range[1]+1)]\n",
    "\n",
    "c_size = c_range[1]-c_range[0]+1\n",
    "results_test = np.zeros(c_size, dtype = np.float64)\n",
    "for i in range(c_size):\n",
    "    C1 = param_C[i]\n",
    "            \n",
    "    svm_clf = LinearSVC(class_weight=\"balanced\", dual=False, C=C1)\n",
    "    results = kfold_score(svm_clf, X_train, y_loc_train, multi_class=False, print1=False)\n",
    "    results_test[i] = results[3]\n",
    "    \n",
    "    #svm_clf.fit(X_train2, y_loc_train2)\n",
    "\n",
    "    #results_test[i] = zero_one_loss(y_loc_val, svm_clf.predict(X_val))\n",
    "    #results_test[i] = f1_score(y_loc_val, svm_clf.predict(X_val), average='binary') \n",
    "print(results_test)\n",
    "Ci = results_test.argmax()\n",
    "C_best = param_C[Ci]\n",
    "\n",
    "best_params = {}\n",
    "best_params['C'] = C_best\n",
    "\n",
    "best_estimator = LinearSVC(class_weight=\"balanced\", dual=False, C=C_best)\n",
    "best_estimator.fit(X_train, y_loc_train)\n",
    "y_pred = best_estimator.predict(X_test)\n",
    "\n",
    "\n",
    "\n",
    "for key, val in best_params.items():\n",
    "    print(key+ \": \"+str(val))\n",
    "print(classification_report(y_loc_test, y_pred))\n",
    "\n",
    "\n",
    "# K-fold \n",
    "\n",
    "print(\"Emoji locations:\\n\")\n",
    "print(\"TF-IDF results:\")\n",
    "results = do_test(best_estimator, X_tfidf, y_loc_tfidf, linear_svm_model_file_name, should_train_linear_svm)\n",
    "\n",
    "# Writing results into a file\n",
    "write_to_file(best_params, results, \"linearSVM\", \"locations\")\n",
    "\n",
    "\n",
    "\"\"\"\n",
    "\n",
    "\n",
    "# Training and testing the best estimator\n",
    "\n",
    "svm_clf = LinearSVC(class_weight=\"balanced\", dual=False, C=0.05)\n",
    "svm_clf.fit(X_train, y_loc_train)\n",
    "y_loc_pred_svm = svm_clf.predict(X_test)\n",
    "fold_scores = calc_scores(y_loc_pred_svm, y_loc_test, False)\n",
    "print_scores(fold_scores, False)\n",
    "\n",
    "\"\"\""
   ]
  },
  {
   "cell_type": "code",
   "execution_count": null,
   "metadata": {
    "collapsed": true
   },
   "outputs": [],
   "source": [
    "from sklearn.svm import LinearSVC\n",
    "from sklearn.model_selection import GridSearchCV\n",
    "from sklearn.metrics import classification_report\n",
    "\n",
    "svm_clf = LinearSVC(class_weight=\"balanced\", dual=False)\n",
    "X_train, X_test, y_emo_train, y_emo_test = train_test_split(X_tfidf, y_emo_tfidf, shuffle=False, test_size=0.1, random_state=42)\n",
    "\n",
    "\n",
    "\"\"\"\n",
    "\n",
    "# Parameter tunning\n",
    "\n",
    "parameters = {'C':[0.05, 0.5, 1, 2]}\n",
    "scoring = 'f1_micro'\n",
    "clf = GridSearchCV(svm_clf, parameters, cv=5, scoring=scoring)\n",
    "clf.fit(X_tfidf, y_emo_tfidf)\n",
    "\n",
    "best_estimator = clf.best_estimator_\n",
    "best_params = {}\n",
    "best_params['C'] = clf.best_params_['C']\n",
    "\n",
    "y_pred = clf.predict(X_test)\n",
    "\n",
    "for key, val in best_params.items():\n",
    "    print(key+ \": \"+str(val))\n",
    "print(classification_report(y_emo_test, y_pred))\n",
    "\n",
    "\n",
    "# K-fold \n",
    "\n",
    "print(\"Emoji types:\\n\")\n",
    "print(\"TF-IDF results:\")\n",
    "results = do_test(best_estimator, X_tfidf, y_emo_tfidf, linear_svm_model_file_name, should_train_linear_svm, True)\n",
    "\n",
    "# Writing results into a file\n",
    "write_to_file(best_params, results, \"linearSVM\", \"emojis\")\n",
    "\n",
    "\"\"\"\n",
    "\n",
    "\n",
    "# Training and testing the best estimator\n",
    "\n",
    "svm_clf = LinearSVC(class_weight=\"balanced\", dual=False, C=0.05)\n",
    "svm_clf.fit(X_train, y_emo_train)\n",
    "y_emo_pred_svm = svm_clf.predict(X_test)\n",
    "fold_scores = calc_scores(y_emo_pred_svm, y_emo_test, True)\n",
    "print_scores(fold_scores, True)\n",
    "\n",
    "#print(y_emo_pred_svm)\n"
   ]
  },
  {
   "cell_type": "code",
   "execution_count": null,
   "metadata": {
    "collapsed": true
   },
   "outputs": [],
   "source": [
    "def emo_vectorize_func(a, b):\n",
    "    if b == 1:\n",
    "        return a\n",
    "    else:\n",
    "        return 0\n",
    "\n",
    "#y_emo_loc_pred_svm = [0]*len(y_emo_pred_svm)\n",
    "\n",
    "\n",
    "vfunc = np.vectorize(emo_vectorize_func)\n",
    "y_emo_loc_pred_svm = vfunc(y_emo_pred_svm, y_loc_pred_svm)\n",
    "\n",
    "\n",
    "print(f\"y_pred for emojis:\\n {y_emo_pred_svm[:400]}\\n\")\n",
    "print(f\"y_pred for locations:\\n {y_loc_pred_svm[:400]}\\n\")\n",
    "print(f\"y_pred for emojis with locations:\\n {y_emo_loc_pred_svm[:400]}\\n\")\n",
    "\n",
    "fold_scores = calc_scores(y_emo_loc_pred_svm, y_emo_test, True)\n",
    "print_scores(fold_scores, True)"
   ]
  },
  {
   "cell_type": "markdown",
   "metadata": {
    "hideCode": false,
    "hidePrompt": false
   },
   "source": [
    "### Bagging SVM\n",
    "\n",
    "Warning! SVM is based on the libsvm library and it scales poorly with large datasets. That is why an ensemble (bagging) is used. Each classifier is trained on a portion of the data which greatly reduces training times and gives similar (if not better) results. Using 10 estimators it still takes a few hours to train. Results are just a bit better than a single linear SVM."
   ]
  },
  {
   "cell_type": "code",
   "execution_count": null,
   "metadata": {
    "collapsed": true,
    "hideCode": false,
    "hidePrompt": false
   },
   "outputs": [],
   "source": [
    "from sklearn.svm import SVC\n",
    "from sklearn.ensemble import BaggingClassifier\n",
    "from sklearn.model_selection import GridSearchCV\n",
    "from sklearn.metrics import classification_report\n",
    "\n",
    "n_estimators = 10\n",
    "bagging_svm_clf = BaggingClassifier(SVC(kernel='linear', class_weight='balanced'), max_samples=1.0 / n_estimators,\n",
    "                                        n_estimators=n_estimators, bootstrap=False)\n",
    "\n",
    "\n",
    "print(\"Emoji locations:\\n\")\n",
    "\n",
    "do_test(bagging_svm_clf, X, y_l, bagging_model_file_name, should_train_bagging_svm)  "
   ]
  },
  {
   "cell_type": "code",
   "execution_count": null,
   "metadata": {
    "collapsed": true
   },
   "outputs": [],
   "source": [
    "from sklearn.svm import SVC\n",
    "from sklearn.ensemble import BaggingClassifier\n",
    "\n",
    "n_estimators = 10\n",
    "bagging_svm_clf = BaggingClassifier(SVC(kernel='linear', class_weight='balanced'), max_samples=1.0 / n_estimators,\n",
    "                                        n_estimators=n_estimators, bootstrap=False)\n",
    "\n",
    "print(\"Emoji types:\\n\")\n",
    "\n",
    "do_test(bagging_svm_clf, X, y_e, bagging_model_file_name, should_train_bagging_svm, True)"
   ]
  },
  {
   "cell_type": "markdown",
   "metadata": {
    "hideCode": false,
    "hidePrompt": false
   },
   "source": [
    "### Random Forest Baseline\n",
    "\n",
    "Random forests are pretty fast, but the results are generally worse (F1). High accuracy and recall with low precision."
   ]
  },
  {
   "cell_type": "code",
   "execution_count": null,
   "metadata": {
    "collapsed": true,
    "hideCode": false,
    "hidePrompt": false
   },
   "outputs": [],
   "source": [
    "from sklearn.ensemble import RandomForestClassifier\n",
    "from sklearn.model_selection import GridSearchCV\n",
    "from sklearn.metrics import classification_report\n",
    "\n",
    "#random_forest_clf2 = RandomForestClassifier(min_samples_leaf=2)\n",
    "random_forest_clf = RandomForestClassifier()\n",
    "X_train, X_test, y_loc_train, y_loc_test = train_test_split(X_tfidf, y_loc_tfidf, shuffle=False, test_size=0.1, random_state=42)\n",
    "\n",
    "\n",
    "\"\"\"\n",
    "\n",
    "# Parameter tunning\n",
    "\n",
    "param_grid = {\n",
    "    'min_samples_leaf': [1, 2, 4],\n",
    "    'min_samples_split': [2, 5, 10]\n",
    "}\n",
    "scoring= 'f1'\n",
    "\n",
    "# run grid search\n",
    "clf = GridSearchCV(random_forest_clf, param_grid, cv=5, scoring=scoring)\n",
    "clf.fit(X_train, y_loc_train)\n",
    "\n",
    "# results\n",
    "best_estimator = clf.best_estimator_\n",
    "best_params = {}\n",
    "best_params['min_samples_leaf'] = clf.best_params_['min_samples_leaf']\n",
    "best_params['min_samples_split'] = clf.best_params_['min_samples_split']\n",
    "\n",
    "y_pred = clf.predict(X_test)\n",
    "\n",
    "for key, val in best_params.items():\n",
    "    print(key+ \": \"+str(val))\n",
    "print(classification_report(y_loc_test, y_pred))\n",
    "\n",
    "\n",
    "# K-fold \n",
    "\n",
    "print(\"Emoji locations:\\n\")\n",
    "results = do_test(best_estimator, X_tfidf, y_loc_tfidf, random_forest_file_name, should_train_random_forest)\n",
    "\n",
    "# Writing results into a file\n",
    "write_to_file(best_params, results, \"randomForest\", \"locations\")\n",
    "\n",
    "\"\"\"\n",
    "\n",
    "\n",
    "# Training and testing the best estimator\n",
    "random_forest_clf = RandomForestClassifier(min_samples_leaf=1, min_samples_split=5)\n",
    "random_forest_clf.fit(X_train, y_loc_train)\n",
    "\n",
    "y_loc_pred_rf = random_forest_clf.predict(X_test)\n",
    "fold_scores = calc_scores(y_loc_pred_rf, y_loc_test, False)\n",
    "print_scores(fold_scores, False)\n",
    "\n",
    "#print(y_loc_pred_rf)"
   ]
  },
  {
   "cell_type": "code",
   "execution_count": null,
   "metadata": {
    "collapsed": true
   },
   "outputs": [],
   "source": [
    "from sklearn.ensemble import RandomForestClassifier\n",
    "from sklearn.model_selection import GridSearchCV\n",
    "from sklearn.metrics import classification_report\n",
    "\n",
    "#random_forest_clf = RandomForestClassifier(min_samples_leaf=2)\n",
    "random_forest_clf = RandomForestClassifier()\n",
    "X_train, X_test, y_emo_train, y_emo_test = train_test_split(X_tfidf, y_emo_tfidf, shuffle=False, test_size=0.1, random_state=42)\n",
    "\n",
    "# Parameter tunning\n",
    "\n",
    "param_grid = {\n",
    "    'min_samples_leaf': [1, 2, 4],\n",
    "    'min_samples_split': [2, 5, 10]\n",
    "}\n",
    "scoring= 'f1_micro'\n",
    "\n",
    "# run grid search\n",
    "clf = GridSearchCV(random_forest_clf, param_grid, cv=5, scoring=scoring)\n",
    "clf.fit(X_train, y_emo_train)\n",
    "\n",
    "# results\n",
    "best_estimator = clf.best_estimator_\n",
    "best_params = {}\n",
    "best_params['min_samples_leaf'] = clf.best_params_['min_samples_leaf']\n",
    "best_params['min_samples_split'] = clf.best_params_['min_samples_split']\n",
    "\n",
    "y_pred = clf.predict(X_test)\n",
    "\n",
    "for key, val in best_params.items():\n",
    "    print(key+ \": \"+str(val))\n",
    "print(classification_report(y_emo_test, y_pred))\n",
    "\n",
    "\n",
    "# K-fold \n",
    "\n",
    "print(\"Emoji types:\\n\")\n",
    "results = do_test(best_estimator, X_tfidf, y_emo_tfidf, random_forest_file_name, should_train_random_forest, True)\n",
    "\n",
    "# Writing results into a file\n",
    "write_to_file(best_params, results, \"randomForest\", \"emojis\")\n",
    "\n",
    "\n",
    "\"\"\"\n",
    "\n",
    "# Training and testing the best estimator\n",
    "random_forest_clf = RandomForestClassifier(min_samples_leaf=4, min_samples_split=10)\n",
    "random_forest_clf.fit(X_train, y_emo_train)\n",
    "\n",
    "y_emo_pred_rf = random_forest_clf.predict(X_test)\n",
    "fold_scores = calc_scores(y_emo_pred_rf, y_emo_test, True)\n",
    "print_scores(fold_scores, True)\n",
    "\n",
    "#print(y_emo_pred_rf)\n",
    "\n",
    "\"\"\""
   ]
  },
  {
   "cell_type": "markdown",
   "metadata": {
    "hideCode": false,
    "hidePrompt": false
   },
   "source": [
    "### AdaBoost Baseline\n",
    "\n"
   ]
  },
  {
   "cell_type": "code",
   "execution_count": 12,
   "metadata": {
    "hideCode": false,
    "hidePrompt": false
   },
   "outputs": [
    {
     "ename": "TypeError",
     "evalue": "load_and_test_model() missing 1 required positional argument: 'multi_class'",
     "output_type": "error",
     "traceback": [
      "\u001b[1;31m---------------------------------------------------------------------------\u001b[0m",
      "\u001b[1;31mTypeError\u001b[0m                                 Traceback (most recent call last)",
      "\u001b[1;32m<ipython-input-12-7b3bc10aedc1>\u001b[0m in \u001b[0;36m<module>\u001b[1;34m()\u001b[0m\n\u001b[0;32m     54\u001b[0m \u001b[1;33m\u001b[0m\u001b[0m\n\u001b[0;32m     55\u001b[0m \u001b[0mtrain_and_save_model\u001b[0m\u001b[1;33m(\u001b[0m\u001b[0madaboost_clf\u001b[0m\u001b[1;33m,\u001b[0m \u001b[0mX_train\u001b[0m\u001b[1;33m,\u001b[0m \u001b[0my_loc_train\u001b[0m\u001b[1;33m,\u001b[0m \u001b[1;34m\"./ada_final.pkl\"\u001b[0m\u001b[1;33m)\u001b[0m\u001b[1;33m\u001b[0m\u001b[0m\n\u001b[1;32m---> 56\u001b[1;33m \u001b[0mload_and_test_model\u001b[0m\u001b[1;33m(\u001b[0m\u001b[1;34m\"./ada_final.pkl\"\u001b[0m\u001b[1;33m,\u001b[0m \u001b[0my_loc_test\u001b[0m\u001b[1;33m,\u001b[0m \u001b[1;32mFalse\u001b[0m\u001b[1;33m)\u001b[0m\u001b[1;33m\u001b[0m\u001b[0m\n\u001b[0m\u001b[0;32m     57\u001b[0m \u001b[1;33m\u001b[0m\u001b[0m\n",
      "\u001b[1;31mTypeError\u001b[0m: load_and_test_model() missing 1 required positional argument: 'multi_class'"
     ]
    }
   ],
   "source": [
    "from sklearn.ensemble import AdaBoostClassifier\n",
    "from sklearn.tree import DecisionTreeClassifier\n",
    "from sklearn.model_selection import GridSearchCV\n",
    "from sklearn.metrics import classification_report\n",
    "\n",
    "X_train, X_test, y_loc_train, y_loc_test = train_test_split(X_tfidf, y_loc_tfidf, shuffle=False, test_size=0.1, random_state=42)\n",
    "\n",
    "#adaboost_clf = AdaBoostClassifier(DecisionTreeClassifier(max_depth=2, class_weight=\"balanced\"), n_estimators=100)\n",
    "dtree_clf = DecisionTreeClassifier(random_state = 11, max_features = \"auto\", class_weight = \"balanced\",max_depth = None)\n",
    "adaboost_clf = AdaBoostClassifier(base_estimator = dtree_clf)\n",
    "\n",
    "\n",
    "# # Parameter tunning\n",
    "\n",
    "# param_grid = {'base_estimator__max_depth': [2, 3, 4],\n",
    "#               'base_estimator__max_features': [2, 3, 4],\n",
    "#               'n_estimators': [50, 75]}\n",
    "# scoring = 'f1'\n",
    "\n",
    "# # run grid search\n",
    "# clf = GridSearchCV(adaboost_clf, param_grid, cv=5, scoring=scoring)\n",
    "# clf.fit(X_train, y_loc_train)\n",
    "\n",
    "# # results\n",
    "# best_estimator = clf.best_estimator_\n",
    "\n",
    "# best_params = {}\n",
    "# best_params['base_estimator__max_depth'] = clf.best_params_['base_estimator__max_depth']\n",
    "# best_params['base_estimator__max_features'] = clf.best_params_['base_estimator__max_features']\n",
    "# best_params['n_estimators'] = clf.best_params_['n_estimators']\n",
    "\n",
    "# y_pred = clf.predict(X_test)\n",
    "\n",
    "# for key, val in best_params.items():\n",
    "#     print(key+ \": \"+str(val))\n",
    "# print(classification_report(y_loc_test, y_pred))\n",
    "\n",
    "\n",
    "# # K-fold \n",
    "\n",
    "# print(\"Emoji locations:\\n\")\n",
    "# results = do_test(best_estimator, X_tfidf, y_loc_tfidf, adaboost_file_name, should_train_adaboost)\n",
    "\n",
    "# # Writing results into a file\n",
    "# write_to_file(best_params, results, \"adaBoost\", \"locations\")\n",
    "\n",
    "\n",
    "# Training and testing the best estimator\n",
    "\n",
    "dtree_clf = DecisionTreeClassifier(max_depth = 4, max_features = 4, random_state = 11, class_weight = \"balanced\")\n",
    "adaboost_clf = AdaBoostClassifier(base_estimator = dtree_clf, n_estimators = 75)\n",
    "\n",
    "adaboost_clf.fit(X_train, y_loc_train)\n",
    "\n",
    "train_and_save_model(adaboost_clf, X_train, y_loc_train, \"./ada_final.pkl\")\n",
    "load_and_test_model(\"./ada_final.pkl\", y_loc_test, False)\n",
    "\n"
   ]
  },
  {
   "cell_type": "code",
   "execution_count": null,
   "metadata": {
    "collapsed": true,
    "scrolled": true
   },
   "outputs": [],
   "source": [
    "from sklearn.ensemble import AdaBoostClassifier\n",
    "from sklearn.tree import DecisionTreeClassifier\n",
    "from sklearn.model_selection import GridSearchCV\n",
    "from sklearn.metrics import classification_report\n",
    "\n",
    "\n",
    "X_train, X_test, y_emo_train, y_emo_test = train_test_split(X_tfidf, y_emo_tfidf, shuffle=False, test_size=0.1, random_state=42) \n",
    "\n",
    "#adaboost_clf = AdaBoostClassifier(DecisionTreeClassifier(max_depth=2, class_weight=\"balanced\"), n_estimators=100)\n",
    "dtree_clf = DecisionTreeClassifier(random_state = 11, max_features = \"auto\", class_weight = \"balanced\",max_depth = None)\n",
    "adaboost_clf = AdaBoostClassifier(base_estimator = dtree_clf)\n",
    "\n",
    "\n",
    "# Parameter tunning\n",
    "\n",
    "param_grid = {'base_estimator__max_depth': [2, 3, 4],\n",
    "              'base_estimator__max_features': [2, 3, 4],\n",
    "              'n_estimators': [50, 75]}\n",
    "scoring = 'f1_micro'\n",
    "\n",
    "# run grid search\n",
    "clf = GridSearchCV(adaboost_clf, param_grid, cv=5, scoring=scoring)\n",
    "clf.fit(X_train, y_emo_train)\n",
    "\n",
    "# results\n",
    "best_estimator = clf.best_estimator_\n",
    "\n",
    "best_params = {}\n",
    "best_params['base_estimator__max_depth'] = clf.best_params_['base_estimator__max_depth']\n",
    "best_params['base_estimator__max_features'] = clf.best_params_['base_estimator__max_features']\n",
    "best_params['n_estimators'] = clf.best_params_['n_estimators']\n",
    "\n",
    "y_pred = clf.predict(X_test)\n",
    "\n",
    "for key, val in best_params.items():\n",
    "    print(key+ \": \"+str(val))\n",
    "print(classification_report(y_emo_test, y_pred))\n",
    "\n",
    "\n",
    "# K-fold \n",
    "\n",
    "print(\"Emoji locations:\\n\")\n",
    "results = do_test(best_estimator, X_tfidf, y_emo_tfidf, adaboost_file_name, should_train_adaboost, True)\n",
    "\n",
    "# Writing results into a file\n",
    "write_to_file(best_params, results, \"adaBoost\", \"emojis\")\n",
    "\n",
    "\n",
    "\"\"\"\n",
    "\n",
    "# Training and testing the best estimator\n",
    "\n",
    "dtree_clf = DecisionTreeClassifier(max_depth = 2, max_features = 2, random_state = 11, max_features = \"auto\", class_weight = \"balanced\")\n",
    "adaboost_clf = AdaBoostClassifier(base_estimator = dtree_clf, n_estimators = 50)\n",
    "\n",
    "adaboost_clf.fit(X_train, y_emo_train)\n",
    "\n",
    "y_emo_pred_ab = adaboost_clf.predict(X_test)\n",
    "fold_scores = calc_scores(y_emo_pred_ab, y_emo_test, True)\n",
    "print_scores(fold_scores, True)\n",
    "\n",
    "\n",
    "#print(y_emo_pred_ab)\n",
    "\n",
    "\"\"\""
   ]
  },
  {
   "cell_type": "markdown",
   "metadata": {},
   "source": [
    "### T-test"
   ]
  },
  {
   "cell_type": "code",
   "execution_count": null,
   "metadata": {
    "collapsed": true
   },
   "outputs": [],
   "source": [
    "from scipy import stats\n",
    "\n",
    "def test_vectorize_func(a, v1, v2):\n",
    "    if a == 1:\n",
    "        return v2\n",
    "    else:\n",
    "        return v1\n",
    "\n",
    "vfunc = np.vectorize(test_vectorize_func)\n",
    "\n",
    "\n",
    "#vec1 = [1, 2, 3, 4, 5]\n",
    "#vec2 = [2, 2, 3 ,4 ,5]\n",
    "#y_test = [1, 2, 3, 4, 5]\n",
    "\n",
    "average = 'micro'  # -> za multi_class\n",
    "#average = 'binary'\n",
    "\n",
    "metric1 = []\n",
    "metric2 = []\n",
    "\n",
    "for i in range(0, 1000):\n",
    "    vec_rand = np.random.randint(2, size=len(vec1))\n",
    "    vec1_new = vfunc(vec_rand, vec1, vec2)\n",
    "    vec2_new = vfunc(vec_rand, vec2, vec1)\n",
    "    \n",
    "    f1_vec1 = f1_score(y_test, vec1_new, average=average) \n",
    "    f1_vec2 = f1_score(y_test, vec2_new, average=average) \n",
    "    \n",
    "    metric1.append(f1_vec1)\n",
    "    metric2.append(f1_vec2)\n",
    "    \n",
    "print(stats.ttest_ind(metric1, metric2))\n",
    "    "
   ]
  },
  {
   "cell_type": "markdown",
   "metadata": {},
   "source": [
    "### BLSTM for emoji location prediction\n",
    "\n",
    "Bidirectional long short-term memory recurrent network implementation using the Keras framework. Emoji location prediction is treated as a binary classification problem. INPUT_SIZE determines how much of the tweets are used for training. The model uses an embedding layer and its size is a hyperparameter. A single bidirectional layer is used which actually consists of two LSTM layers."
   ]
  },
  {
   "cell_type": "code",
   "execution_count": null,
   "metadata": {
    "collapsed": true
   },
   "outputs": [],
   "source": [
    "from pandas import DataFrame\n",
    "\n",
    "N_TIMESTEPS = MAX_WORDS_PER_TWEET\n",
    "N_CLASSES = 2\n",
    "INPUT_SIZE = 100000\n",
    "EMBEDDING_SIZE = 10\n",
    "HIDDEN_SIZE = 20\n",
    "PARAMETER_STR = str(N_CLASSES) + \"_\" + str(INPUT_SIZE) + \"_\" + str(EMBEDDING_SIZE) + \"_\" + str(HIDDEN_SIZE)\n",
    "\n",
    "dummy_text = [\"\"\" Jack and Jill went up the hill\\n\n",
    "        To fetch a pail of water\\n\n",
    "        Jack fell down and broke his crown\\n\n",
    "        And Jill came tumbling after\\n \"\"\"]"
   ]
  },
  {
   "cell_type": "markdown",
   "metadata": {},
   "source": [
    "### Data preparation\n",
    "\n",
    "Words are converted to integer ids using a tokenizer. Each unique word has its own unique integer value. Tweets are padded with zeros to a set length. Padding is required by Keras. Since most of the labels are zero (emojis are present after every 15th word), class weights are calculated. Without class weights the model behaves like a majority class classifier which is of no use here."
   ]
  },
  {
   "cell_type": "code",
   "execution_count": null,
   "metadata": {
    "collapsed": true
   },
   "outputs": [],
   "source": [
    "from keras.preprocessing.text import Tokenizer\n",
    "from keras.preprocessing.sequence import pad_sequences\n",
    "from keras.utils import to_categorical\n",
    "from sklearn.utils.class_weight import compute_sample_weight\n",
    "\n",
    "# integer encode text\n",
    "X_input = text_lines[:INPUT_SIZE]\n",
    "tokenizer = Tokenizer()\n",
    "tokenizer.fit_on_texts(X_input)\n",
    "txt_to_seq = tokenizer.texts_to_sequences(X_input)\n",
    "print(f\"encoded:\\n{txt_to_seq[0:5]}\\n\")\n",
    "# determine the vocabulary size\n",
    "vocab_size = len(tokenizer.word_index) + 1\n",
    "print(f\"Vocabulary Size: {vocab_size}\")\n",
    "\n",
    "# pad input sequences\n",
    "X_blstm = pad_sequences(txt_to_seq, maxlen=N_TIMESTEPS, padding='post')\n",
    "print(f\"input shape: {X_blstm.shape}\")\n",
    "print(f\"BLSTM input example:\\n{X_blstm[:5]}\\n\")\n",
    "\n",
    "y_loc = loc_lines[:INPUT_SIZE,1:]\n",
    "y_blstm = to_categorical(y_loc, num_classes=N_CLASSES)\n",
    "print(f\"labels shape: {y_blstm.shape}\")\n",
    "# print(f\"BLSTM labels:\\n{y_blstm[:5]}\\n\")\n",
    "\n",
    "weights = class_weight.compute_class_weight('balanced', np.unique(y_loc), y_loc.flatten())\n",
    "class_weight_dict = dict(enumerate(weights))\n",
    "print(f\"class weight dict:\\n{class_weight_dict}\\n\")\n",
    "\n",
    "vfunc = np.vectorize(lambda x: class_weight_dict[x])\n",
    "sample_weights = vfunc(y_loc)\n",
    "print(f\"sample_weights shape: {sample_weights.shape}\")\n",
    "print(f\"sample_weights examples:\\n{sample_weights[:5]}\\n\")"
   ]
  },
  {
   "cell_type": "markdown",
   "metadata": {},
   "source": [
    " ### Train model\n",
    " \n",
    " The following code is used to create and train a new model."
   ]
  },
  {
   "cell_type": "code",
   "execution_count": null,
   "metadata": {
    "collapsed": true
   },
   "outputs": [],
   "source": [
    "from keras.models import Sequential\n",
    "from keras.layers import Embedding\n",
    "from keras.layers import LSTM\n",
    "from keras.layers import Dense\n",
    "from keras.layers import TimeDistributed\n",
    "from keras.layers import Bidirectional\n",
    "\n",
    "def get_bi_lstm_model(n_timesteps=N_TIMESTEPS, mode=\"concat\"):\n",
    "    model = Sequential()\n",
    "    model.add(Embedding(vocab_size, 10, input_length=N_TIMESTEPS))\n",
    "    model.add(Bidirectional(LSTM(20, return_sequences=True), merge_mode=mode))\n",
    "    model.add(TimeDistributed(Dense(N_CLASSES, activation='softmax')))\n",
    "    model.compile(loss='binary_crossentropy', optimizer='adam', metrics=[\"accuracy\"], sample_weight_mode=\"temporal\")\n",
    "    return model\n",
    "\n",
    "blstm = get_bi_lstm_model()\n",
    "blstm.fit(X_blstm, y_blstm, epochs=10, validation_split=0.05, verbose=2, sample_weight=sample_weights)"
   ]
  },
  {
   "cell_type": "markdown",
   "metadata": {},
   "source": [
    "### Load/Save model\n",
    "\n",
    "The following two blocks are used to save and load models."
   ]
  },
  {
   "cell_type": "code",
   "execution_count": null,
   "metadata": {
    "collapsed": true
   },
   "outputs": [],
   "source": [
    "BLSTM_MODEL_FILE_NAME = \"blstm_model_\" + PARAMETER_STR + \".h5\"\n",
    "blstm.save(BLSTM_MODEL_FILE_NAME)"
   ]
  },
  {
   "cell_type": "code",
   "execution_count": null,
   "metadata": {
    "collapsed": true
   },
   "outputs": [],
   "source": [
    "from keras.models import load_model\n",
    "\n",
    "blstm = load_model(BLSTM_MODEL_FILE_NAME)"
   ]
  },
  {
   "cell_type": "code",
   "execution_count": null,
   "metadata": {
    "collapsed": true
   },
   "outputs": [],
   "source": [
    "NUM_OF_TWEETS_TO_TEST = 10\n",
    "\n",
    "def get_predictions(texts):\n",
    "    text_to_integer_sequences = tokenizer.texts_to_sequences(texts)\n",
    "    blstm_input = pad_sequences(text_to_integer_sequences, maxlen=N_TIMESTEPS, padding='post')\n",
    "    ypred = blstm.predict_classes(blstm_input)\n",
    "    return np.insert(ypred, 0, 0, axis=1)\n",
    "\n",
    "print(f\"example of labels (emoji locations):\\n{loc_lines[:NUM_OF_TWEETS_TO_TEST]}\\n\")\n",
    "print(f\"model predictions:\\n{get_predictions(text_lines[:NUM_OF_TWEETS_TO_TEST])}\\n\")"
   ]
  },
  {
   "cell_type": "markdown",
   "metadata": {},
   "source": [
    "### Load/Save predictions\n",
    "\n",
    "Use the code below to save/load a model's predictions. Training and testing the model requires a powerful Nvidia GPU and is time consuming. This also enables the evaluation of results without having to work with the model itself."
   ]
  },
  {
   "cell_type": "code",
   "execution_count": null,
   "metadata": {
    "collapsed": true
   },
   "outputs": [],
   "source": [
    "BLSTM_PREDICTIONS_FILE_NAME = \"blstm_predictions_\" + PARAMETER_STR + \".pkl\"\n",
    "predictions = get_predictions(text_lines)\n",
    "\n",
    "result_dict = {}\n",
    "result_dict[\"num_of_classes\"] = N_CLASSES\n",
    "result_dict[\"num_of_input_tweets\"] = INPUT_SIZE\n",
    "result_dict[\"embedding_size\"] = EMBEDDING_SIZE\n",
    "result_dict[\"hidden_size\"] = HIDDEN_SIZE\n",
    "result_dict[\"input_X\"] = X_blstm\n",
    "result_dict[\"input_y\"] = y_blstm\n",
    "result_dict[\"ypred\"] = predictions\n",
    "\n",
    "joblib.dump(result_dict, BLSTM_PREDICTIONS_FILE_NAME)"
   ]
  },
  {
   "cell_type": "code",
   "execution_count": null,
   "metadata": {
    "collapsed": true
   },
   "outputs": [],
   "source": [
    "result_dict = joblib.load(BLSTM_PREDICTIONS_FILE_NAME)"
   ]
  }
 ],
 "metadata": {
  "hide_code_all_hidden": false,
  "kernelspec": {
   "display_name": "Python 3",
   "language": "python",
   "name": "python3"
  },
  "language_info": {
   "codemirror_mode": {
    "name": "ipython",
    "version": 3
   },
   "file_extension": ".py",
   "mimetype": "text/x-python",
   "name": "python",
   "nbconvert_exporter": "python",
   "pygments_lexer": "ipython3",
   "version": "3.6.2"
  }
 },
 "nbformat": 4,
 "nbformat_minor": 2
}
